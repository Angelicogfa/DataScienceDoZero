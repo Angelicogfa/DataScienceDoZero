{
 "cells": [
  {
   "cell_type": "markdown",
   "metadata": {},
   "source": [
    "# Data Science do Zero"
   ]
  },
  {
   "cell_type": "code",
   "execution_count": 2,
   "metadata": {},
   "outputs": [],
   "source": [
    "import pandas as pd"
   ]
  },
  {
   "cell_type": "markdown",
   "metadata": {},
   "source": [
    "# Exercícios de Machine Learning - SVM"
   ]
  },
  {
   "cell_type": "markdown",
   "metadata": {},
   "source": [
    "1) Explique o que é conjuntos de **treino** e conjuntos de **teste** e porque esses conjuntos recebem esse nome."
   ]
  },
  {
   "cell_type": "markdown",
   "metadata": {},
   "source": [
    "Resposta:\n",
    "Um conjunto de treino é uma fração do conjunto de dados utilizado para efetuar o treinamento do modelo e o conjunto de teste é a fração restante do conjunto de dados utilizado para avaliar se o modelo teve um performance aceitavel, sem viez ou que posso estar sofrendo de overfit ou underfit."
   ]
  },
  {
   "cell_type": "markdown",
   "metadata": {},
   "source": [
    "## Complete os códigos abaixo"
   ]
  },
  {
   "cell_type": "markdown",
   "metadata": {},
   "source": [
    "2) Leia o arquivo de dados usando o pandas e defina o nome do dataframe como **df_spotify**"
   ]
  },
  {
   "cell_type": "code",
   "execution_count": 9,
   "metadata": {},
   "outputs": [
    {
     "output_type": "execute_result",
     "data": {
      "text/plain": "   id  acousticness  danceability  duration_ms  energy  instrumentalness  key  \\\n0   0        0.0102         0.833       204600   0.434          0.021900    2   \n1   1        0.1990         0.743       326933   0.359          0.006110    1   \n2   2        0.0344         0.838       185707   0.412          0.000234    2   \n3   3        0.6040         0.494       199413   0.338          0.510000    5   \n4   4        0.1800         0.678       392893   0.561          0.512000    5   \n\n   liveness  loudness  mode  speechiness    tempo  time_signature  valence  \\\n0    0.1650    -8.795     1       0.4310  150.062             4.0    0.286   \n1    0.1370   -10.401     1       0.0794  160.083             4.0    0.588   \n2    0.1590    -7.148     1       0.2890   75.044             4.0    0.173   \n3    0.0922   -15.236     1       0.0261   86.468             4.0    0.230   \n4    0.4390   -11.648     0       0.0694  174.004             4.0    0.904   \n\n   target      song_title            artist  \n0       1        Mask Off            Future  \n1       1         Redbone  Childish Gambino  \n2       1    Xanny Family            Future  \n3       1  Master Of None       Beach House  \n4       1  Parallel Lines       Junior Boys  ",
      "text/html": "<div>\n<style scoped>\n    .dataframe tbody tr th:only-of-type {\n        vertical-align: middle;\n    }\n\n    .dataframe tbody tr th {\n        vertical-align: top;\n    }\n\n    .dataframe thead th {\n        text-align: right;\n    }\n</style>\n<table border=\"1\" class=\"dataframe\">\n  <thead>\n    <tr style=\"text-align: right;\">\n      <th></th>\n      <th>id</th>\n      <th>acousticness</th>\n      <th>danceability</th>\n      <th>duration_ms</th>\n      <th>energy</th>\n      <th>instrumentalness</th>\n      <th>key</th>\n      <th>liveness</th>\n      <th>loudness</th>\n      <th>mode</th>\n      <th>speechiness</th>\n      <th>tempo</th>\n      <th>time_signature</th>\n      <th>valence</th>\n      <th>target</th>\n      <th>song_title</th>\n      <th>artist</th>\n    </tr>\n  </thead>\n  <tbody>\n    <tr>\n      <th>0</th>\n      <td>0</td>\n      <td>0.0102</td>\n      <td>0.833</td>\n      <td>204600</td>\n      <td>0.434</td>\n      <td>0.021900</td>\n      <td>2</td>\n      <td>0.1650</td>\n      <td>-8.795</td>\n      <td>1</td>\n      <td>0.4310</td>\n      <td>150.062</td>\n      <td>4.0</td>\n      <td>0.286</td>\n      <td>1</td>\n      <td>Mask Off</td>\n      <td>Future</td>\n    </tr>\n    <tr>\n      <th>1</th>\n      <td>1</td>\n      <td>0.1990</td>\n      <td>0.743</td>\n      <td>326933</td>\n      <td>0.359</td>\n      <td>0.006110</td>\n      <td>1</td>\n      <td>0.1370</td>\n      <td>-10.401</td>\n      <td>1</td>\n      <td>0.0794</td>\n      <td>160.083</td>\n      <td>4.0</td>\n      <td>0.588</td>\n      <td>1</td>\n      <td>Redbone</td>\n      <td>Childish Gambino</td>\n    </tr>\n    <tr>\n      <th>2</th>\n      <td>2</td>\n      <td>0.0344</td>\n      <td>0.838</td>\n      <td>185707</td>\n      <td>0.412</td>\n      <td>0.000234</td>\n      <td>2</td>\n      <td>0.1590</td>\n      <td>-7.148</td>\n      <td>1</td>\n      <td>0.2890</td>\n      <td>75.044</td>\n      <td>4.0</td>\n      <td>0.173</td>\n      <td>1</td>\n      <td>Xanny Family</td>\n      <td>Future</td>\n    </tr>\n    <tr>\n      <th>3</th>\n      <td>3</td>\n      <td>0.6040</td>\n      <td>0.494</td>\n      <td>199413</td>\n      <td>0.338</td>\n      <td>0.510000</td>\n      <td>5</td>\n      <td>0.0922</td>\n      <td>-15.236</td>\n      <td>1</td>\n      <td>0.0261</td>\n      <td>86.468</td>\n      <td>4.0</td>\n      <td>0.230</td>\n      <td>1</td>\n      <td>Master Of None</td>\n      <td>Beach House</td>\n    </tr>\n    <tr>\n      <th>4</th>\n      <td>4</td>\n      <td>0.1800</td>\n      <td>0.678</td>\n      <td>392893</td>\n      <td>0.561</td>\n      <td>0.512000</td>\n      <td>5</td>\n      <td>0.4390</td>\n      <td>-11.648</td>\n      <td>0</td>\n      <td>0.0694</td>\n      <td>174.004</td>\n      <td>4.0</td>\n      <td>0.904</td>\n      <td>1</td>\n      <td>Parallel Lines</td>\n      <td>Junior Boys</td>\n    </tr>\n  </tbody>\n</table>\n</div>"
     },
     "metadata": {},
     "execution_count": 9
    }
   ],
   "source": [
    "df_spotify = pd.read_csv('datasets/data.csv', sep=',')\n",
    "df_spotify.head()"
   ]
  },
  {
   "cell_type": "markdown",
   "metadata": {},
   "source": [
    "3) Remova as colunas 'id' e 'song_title' de forma que alteração modifique o dataframe em **memória**"
   ]
  },
  {
   "cell_type": "code",
   "execution_count": 10,
   "metadata": {},
   "outputs": [],
   "source": [
    "df_spotify.drop('id', axis=1,inplace=True)\n",
    "df_spotify.drop('song_title',axis=1, inplace=True)"
   ]
  },
  {
   "cell_type": "markdown",
   "metadata": {},
   "source": [
    "4) Aplique o Label Encoder nos dados:"
   ]
  },
  {
   "cell_type": "code",
   "execution_count": 11,
   "metadata": {},
   "outputs": [],
   "source": [
    "from sklearn.preprocessing import LabelEncoder\n",
    "enc = LabelEncoder()\n",
    "inteiros = enc.fit_transform(df_spotify['artist'])\n",
    "df_spotify['Artists'] = inteiros\n",
    "df_spotify.drop('artist', axis=1, inplace=True)"
   ]
  },
  {
   "cell_type": "markdown",
   "metadata": {},
   "source": [
    "5) Explique o que corresponde cada **variável** abaixo apos execução do seguinte comando: \n",
    "    \n",
    "X_train, X_test, y_train, y_test = train_test_split(df_spotify, classes)\n",
    "    \n",
    "X_train = O conjunto de features utilizadas para treino\n",
    "\n",
    "X_test = O conjunto de features utilizadas para teste\n",
    "\n",
    "y_train = O vetor de labels utilizadas para treino\n",
    "\n",
    "y_test = O Vetor de labels utilizadas para teste"
   ]
  },
  {
   "cell_type": "markdown",
   "metadata": {},
   "source": [
    "6) Crie uma variável chamada **classes** e atribua os dados da coluna **target**. Em seguida remova a coluna target de forma definitiva do dataframe em memória."
   ]
  },
  {
   "cell_type": "code",
   "execution_count": 12,
   "metadata": {},
   "outputs": [],
   "source": [
    "classes = df_spotify['Artists']"
   ]
  },
  {
   "cell_type": "code",
   "execution_count": 13,
   "metadata": {},
   "outputs": [],
   "source": [
    "df_spotify.drop('Artists',axis=1,inplace=True)"
   ]
  },
  {
   "cell_type": "markdown",
   "metadata": {},
   "source": [
    "7) Separe os dados para validar o algoritmo"
   ]
  },
  {
   "cell_type": "code",
   "execution_count": 14,
   "metadata": {},
   "outputs": [],
   "source": [
    "from sklearn.model_selection import train_test_split\n",
    "X_train, X_test, y_train, y_test = train_test_split(df_spotify, classes)"
   ]
  },
  {
   "cell_type": "markdown",
   "metadata": {},
   "source": [
    "8) Instancia um objeto chamado **classificador_svm**"
   ]
  },
  {
   "cell_type": "code",
   "execution_count": 16,
   "metadata": {},
   "outputs": [],
   "source": [
    "from sklearn.svm import SVC\n",
    "classificador_svm = SVC()"
   ]
  },
  {
   "cell_type": "markdown",
   "metadata": {},
   "source": [
    "9) Treine seu algoritmo e gere um Modelo, explique de forma simples o que é um **modelo**"
   ]
  },
  {
   "cell_type": "code",
   "execution_count": 17,
   "metadata": {},
   "outputs": [
    {
     "output_type": "execute_result",
     "data": {
      "text/plain": "SVC(C=1.0, break_ties=False, cache_size=200, class_weight=None, coef0=0.0,\n    decision_function_shape='ovr', degree=3, gamma='scale', kernel='rbf',\n    max_iter=-1, probability=False, random_state=None, shrinking=True,\n    tol=0.001, verbose=False)"
     },
     "metadata": {},
     "execution_count": 17
    }
   ],
   "source": [
    "classificador_svm.fit(X_train, y_train)"
   ]
  },
  {
   "cell_type": "markdown",
   "metadata": {},
   "source": [
    "Explicação: \n",
    "Um modelo é um objeto matematico/estatistico que aprende uma função de hipotese f que aproxima/resolve as entradas (features) as saidas (target)."
   ]
  },
  {
   "cell_type": "markdown",
   "metadata": {},
   "source": [
    "10) Valide seu modelo imprimindo o valor de acurácia:"
   ]
  },
  {
   "cell_type": "code",
   "execution_count": 18,
   "metadata": {},
   "outputs": [
    {
     "output_type": "execute_result",
     "data": {
      "text/plain": "0.01455026455026455"
     },
     "metadata": {},
     "execution_count": 18
    }
   ],
   "source": [
    "classificador_svm.score(X_train, y_train)"
   ]
  },
  {
   "cell_type": "markdown",
   "metadata": {},
   "source": [
    "11) Execute uma **Validação Cruzada** com 10 folds para validar seu modelo e explique de forma resumida porque a validação cruzada é importante."
   ]
  },
  {
   "cell_type": "code",
   "execution_count": 22,
   "metadata": {},
   "outputs": [
    {
     "output_type": "execute_result",
     "data": {
      "text/plain": "array([356, 960, 356, ..., 356, 356, 356])"
     },
     "metadata": {},
     "execution_count": 22
    }
   ],
   "source": [
    "from sklearn.model_selection import cross_val_predict\n",
    "resultados = cross_val_predict(SVC(), df_spotify, classes, cv=10)\n",
    "resultados"
   ]
  },
  {
   "cell_type": "markdown",
   "metadata": {},
   "source": [
    "Explicação:\n",
    "\n",
    "A validação cruzada é importante para poder validar as possibilidades de validação entre os cenários de treino e testes com possíves n formatos de dados."
   ]
  },
  {
   "cell_type": "markdown",
   "metadata": {},
   "source": [
    "12) Imprima a acurácia do modelo apos a validação cruzada"
   ]
  },
  {
   "cell_type": "code",
   "execution_count": 24,
   "metadata": {
    "tags": []
   },
   "outputs": [
    {
     "output_type": "stream",
     "name": "stdout",
     "text": "0.010907288051561725\n"
    }
   ],
   "source": [
    "from sklearn import metrics\n",
    "print (metrics.accuracy_score(classes,resultados))"
   ]
  },
  {
   "cell_type": "markdown",
   "metadata": {},
   "source": [
    "13) Crie um pipeline chamado **MD_01** com as seguintes configurações:\n",
    "\n",
    "    a) Standardscaler como a primeira etapa.\n",
    "    b) Classificador SVM com Kernel RBF,  C=100 , gamma= 0.01.\n",
    "\n",
    "Edite as células abaixo."
   ]
  },
  {
   "cell_type": "code",
   "execution_count": 25,
   "metadata": {},
   "outputs": [],
   "source": [
    "# Importe as bibliotecas de Pipelines e Pré-processadores\n",
    "from sklearn.pipeline import Pipeline\n",
    "from sklearn.preprocessing import StandardScaler\n",
    "from sklearn.preprocessing import MinMaxScaler"
   ]
  },
  {
   "cell_type": "code",
   "execution_count": 26,
   "metadata": {},
   "outputs": [],
   "source": [
    "# Criando Pipeline\n",
    "\n",
    "MD_01 = Pipeline([\n",
    "    ('scaler', StandardScaler()),\n",
    "    ('classificador', SVC(kernel='rbf', C=100, gamma=0.01))\n",
    "])"
   ]
  },
  {
   "cell_type": "markdown",
   "metadata": {},
   "source": [
    "14) Teste o desempenho do seu modelo (pipeline) com a função acurácia"
   ]
  },
  {
   "cell_type": "code",
   "execution_count": 28,
   "metadata": {},
   "outputs": [
    {
     "output_type": "execute_result",
     "data": {
      "text/plain": "0.0436291522062469"
     },
     "metadata": {},
     "execution_count": 28
    }
   ],
   "source": [
    "# Teste o modelo usando o pipeline(criado anteriormente)\n",
    "from sklearn.metrics import accuracy_score\n",
    "\n",
    "def Acuracia(clf,X,y):\n",
    "    resultados = cross_val_predict(clf, X, y, cv=10)\n",
    "    return metrics.accuracy_score(y,resultados)\n",
    "\n",
    "Acuracia(MD_01,df_spotify,classes)"
   ]
  },
  {
   "cell_type": "markdown",
   "metadata": {},
   "source": [
    "15) Crie outros pipelines e refaça todos os passos anteriores para validar outros modelos como:\n",
    "    * Kernel linear\n",
    "    * Kernel poly\n",
    "    * Kernel Rbf (outros valores de C e gamma)"
   ]
  },
  {
   "cell_type": "markdown",
   "metadata": {},
   "source": [
    "Ficou com alguma dúvida?\n",
    "\n",
    "Envie um e-mail para ** *contato@minerandodados.com.br* ** ou comente na área de membros."
   ]
  }
 ],
 "metadata": {
  "kernelspec": {
   "display_name": "Python 3",
   "language": "python",
   "name": "python3"
  },
  "language_info": {
   "codemirror_mode": {
    "name": "ipython",
    "version": 3
   },
   "file_extension": ".py",
   "mimetype": "text/x-python",
   "name": "python",
   "nbconvert_exporter": "python",
   "pygments_lexer": "ipython3",
   "version": "3.7.6-final"
  }
 },
 "nbformat": 4,
 "nbformat_minor": 2
}