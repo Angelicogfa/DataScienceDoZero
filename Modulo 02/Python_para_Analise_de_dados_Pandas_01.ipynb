{
 "cells": [
  {
   "cell_type": "markdown",
   "metadata": {},
   "source": [
    "# Python para Análise de Dados - Pandas  "
   ]
  },
  {
   "cell_type": "markdown",
   "metadata": {},
   "source": [
    "Iremos trabalhar com base de imóveis que obtive no site **Kaggle**\n",
    "\n"
   ]
  },
  {
   "cell_type": "code",
   "execution_count": 90,
   "metadata": {},
   "outputs": [],
   "source": [
    "# Importando o Pandas.\n",
    "import pandas as pd"
   ]
  },
  {
   "cell_type": "code",
   "execution_count": 91,
   "metadata": {},
   "outputs": [],
   "source": [
    "# Lendo uma base de dados no formato .csv.\n",
    "# o parâmetro sep é usado para definir qual o separador entre os dados.\n",
    "# o parâmetro header informo em qual linha está minhas colunas ou se elas não existem.\n",
    "# Se não existe colunas (header=None) o pandas dará um número para cada atributo da base.\n",
    "arquivo = 'kc_house_data.csv'\n",
    "dataset = pd.read_csv(arquivo, sep=',' ,header=0)"
   ]
  },
  {
   "cell_type": "code",
   "execution_count": 92,
   "metadata": {},
   "outputs": [
    {
     "output_type": "execute_result",
     "data": {
      "text/plain": "pandas.core.frame.DataFrame"
     },
     "metadata": {},
     "execution_count": 92
    }
   ],
   "source": [
    "# Imprimindo o tipo da variável dataset\n",
    "# Dataframe é um estrutura de dados onde linhas podem ter colunas de diferentes tipos.\n",
    "type(dataset)"
   ]
  },
  {
   "cell_type": "code",
   "execution_count": 93,
   "metadata": {},
   "outputs": [
    {
     "output_type": "execute_result",
     "data": {
      "text/plain": "           id             date     price  bedrooms  bathrooms  sqft_living  \\\n0  7129300520  20141013T000000  221900.0       3.0       1.00         1180   \n1  6414100192  20141209T000000  538000.0       3.0       2.25         2570   \n2  5631500400  20150225T000000  180000.0       2.0       1.00          770   \n3  2487200875  20141209T000000  604000.0       4.0       3.00         1960   \n4  1954400510  20150218T000000  510000.0       3.0       2.00         1680   \n\n   sqft_lot  floors  waterfront  view  ...  grade  sqft_above  sqft_basement  \\\n0      5650     1.0           0     0  ...      7        1180              0   \n1      7242     2.0           0     0  ...      7        2170            400   \n2     10000     1.0           0     0  ...      6         770              0   \n3      5000     1.0           0     0  ...      7        1050            910   \n4      8080     1.0           0     0  ...      8        1680              0   \n\n   yr_built  yr_renovated  zipcode      lat     long  sqft_living15  \\\n0      1955             0    98178  47.5112 -122.257           1340   \n1      1951          1991    98125  47.7210 -122.319           1690   \n2      1933             0    98028  47.7379 -122.233           2720   \n3      1965             0    98136  47.5208 -122.393           1360   \n4      1987             0    98074  47.6168 -122.045           1800   \n\n   sqft_lot15  \n0        5650  \n1        7639  \n2        8062  \n3        5000  \n4        7503  \n\n[5 rows x 21 columns]",
      "text/html": "<div>\n<style scoped>\n    .dataframe tbody tr th:only-of-type {\n        vertical-align: middle;\n    }\n\n    .dataframe tbody tr th {\n        vertical-align: top;\n    }\n\n    .dataframe thead th {\n        text-align: right;\n    }\n</style>\n<table border=\"1\" class=\"dataframe\">\n  <thead>\n    <tr style=\"text-align: right;\">\n      <th></th>\n      <th>id</th>\n      <th>date</th>\n      <th>price</th>\n      <th>bedrooms</th>\n      <th>bathrooms</th>\n      <th>sqft_living</th>\n      <th>sqft_lot</th>\n      <th>floors</th>\n      <th>waterfront</th>\n      <th>view</th>\n      <th>...</th>\n      <th>grade</th>\n      <th>sqft_above</th>\n      <th>sqft_basement</th>\n      <th>yr_built</th>\n      <th>yr_renovated</th>\n      <th>zipcode</th>\n      <th>lat</th>\n      <th>long</th>\n      <th>sqft_living15</th>\n      <th>sqft_lot15</th>\n    </tr>\n  </thead>\n  <tbody>\n    <tr>\n      <th>0</th>\n      <td>7129300520</td>\n      <td>20141013T000000</td>\n      <td>221900.0</td>\n      <td>3.0</td>\n      <td>1.00</td>\n      <td>1180</td>\n      <td>5650</td>\n      <td>1.0</td>\n      <td>0</td>\n      <td>0</td>\n      <td>...</td>\n      <td>7</td>\n      <td>1180</td>\n      <td>0</td>\n      <td>1955</td>\n      <td>0</td>\n      <td>98178</td>\n      <td>47.5112</td>\n      <td>-122.257</td>\n      <td>1340</td>\n      <td>5650</td>\n    </tr>\n    <tr>\n      <th>1</th>\n      <td>6414100192</td>\n      <td>20141209T000000</td>\n      <td>538000.0</td>\n      <td>3.0</td>\n      <td>2.25</td>\n      <td>2570</td>\n      <td>7242</td>\n      <td>2.0</td>\n      <td>0</td>\n      <td>0</td>\n      <td>...</td>\n      <td>7</td>\n      <td>2170</td>\n      <td>400</td>\n      <td>1951</td>\n      <td>1991</td>\n      <td>98125</td>\n      <td>47.7210</td>\n      <td>-122.319</td>\n      <td>1690</td>\n      <td>7639</td>\n    </tr>\n    <tr>\n      <th>2</th>\n      <td>5631500400</td>\n      <td>20150225T000000</td>\n      <td>180000.0</td>\n      <td>2.0</td>\n      <td>1.00</td>\n      <td>770</td>\n      <td>10000</td>\n      <td>1.0</td>\n      <td>0</td>\n      <td>0</td>\n      <td>...</td>\n      <td>6</td>\n      <td>770</td>\n      <td>0</td>\n      <td>1933</td>\n      <td>0</td>\n      <td>98028</td>\n      <td>47.7379</td>\n      <td>-122.233</td>\n      <td>2720</td>\n      <td>8062</td>\n    </tr>\n    <tr>\n      <th>3</th>\n      <td>2487200875</td>\n      <td>20141209T000000</td>\n      <td>604000.0</td>\n      <td>4.0</td>\n      <td>3.00</td>\n      <td>1960</td>\n      <td>5000</td>\n      <td>1.0</td>\n      <td>0</td>\n      <td>0</td>\n      <td>...</td>\n      <td>7</td>\n      <td>1050</td>\n      <td>910</td>\n      <td>1965</td>\n      <td>0</td>\n      <td>98136</td>\n      <td>47.5208</td>\n      <td>-122.393</td>\n      <td>1360</td>\n      <td>5000</td>\n    </tr>\n    <tr>\n      <th>4</th>\n      <td>1954400510</td>\n      <td>20150218T000000</td>\n      <td>510000.0</td>\n      <td>3.0</td>\n      <td>2.00</td>\n      <td>1680</td>\n      <td>8080</td>\n      <td>1.0</td>\n      <td>0</td>\n      <td>0</td>\n      <td>...</td>\n      <td>8</td>\n      <td>1680</td>\n      <td>0</td>\n      <td>1987</td>\n      <td>0</td>\n      <td>98074</td>\n      <td>47.6168</td>\n      <td>-122.045</td>\n      <td>1800</td>\n      <td>7503</td>\n    </tr>\n  </tbody>\n</table>\n<p>5 rows × 21 columns</p>\n</div>"
     },
     "metadata": {},
     "execution_count": 93
    }
   ],
   "source": [
    "# Metodo head() imprime as 5 linhas iniciais do dataframe.\n",
    "dataset.head()"
   ]
  },
  {
   "cell_type": "code",
   "execution_count": 94,
   "metadata": {},
   "outputs": [],
   "source": [
    "# O parâmetro index_col informa a coluna na qual o dataframe será indexado\n",
    "dataset = pd.read_csv(arquivo, sep=',', index_col='date')"
   ]
  },
  {
   "cell_type": "code",
   "execution_count": 95,
   "metadata": {},
   "outputs": [],
   "source": [
    "dataset = pd.read_csv(arquivo, sep=',', usecols=['id','date','price','bedrooms'])"
   ]
  },
  {
   "cell_type": "code",
   "execution_count": 96,
   "metadata": {},
   "outputs": [
    {
     "output_type": "execute_result",
     "data": {
      "text/plain": "           id             date     price  bedrooms\n0  7129300520  20141013T000000  221900.0       3.0\n1  6414100192  20141209T000000  538000.0       3.0\n2  5631500400  20150225T000000  180000.0       2.0\n3  2487200875  20141209T000000  604000.0       4.0\n4  1954400510  20150218T000000  510000.0       3.0",
      "text/html": "<div>\n<style scoped>\n    .dataframe tbody tr th:only-of-type {\n        vertical-align: middle;\n    }\n\n    .dataframe tbody tr th {\n        vertical-align: top;\n    }\n\n    .dataframe thead th {\n        text-align: right;\n    }\n</style>\n<table border=\"1\" class=\"dataframe\">\n  <thead>\n    <tr style=\"text-align: right;\">\n      <th></th>\n      <th>id</th>\n      <th>date</th>\n      <th>price</th>\n      <th>bedrooms</th>\n    </tr>\n  </thead>\n  <tbody>\n    <tr>\n      <th>0</th>\n      <td>7129300520</td>\n      <td>20141013T000000</td>\n      <td>221900.0</td>\n      <td>3.0</td>\n    </tr>\n    <tr>\n      <th>1</th>\n      <td>6414100192</td>\n      <td>20141209T000000</td>\n      <td>538000.0</td>\n      <td>3.0</td>\n    </tr>\n    <tr>\n      <th>2</th>\n      <td>5631500400</td>\n      <td>20150225T000000</td>\n      <td>180000.0</td>\n      <td>2.0</td>\n    </tr>\n    <tr>\n      <th>3</th>\n      <td>2487200875</td>\n      <td>20141209T000000</td>\n      <td>604000.0</td>\n      <td>4.0</td>\n    </tr>\n    <tr>\n      <th>4</th>\n      <td>1954400510</td>\n      <td>20150218T000000</td>\n      <td>510000.0</td>\n      <td>3.0</td>\n    </tr>\n  </tbody>\n</table>\n</div>"
     },
     "metadata": {},
     "execution_count": 96
    }
   ],
   "source": [
    "# Metodo head() imprime as 5 linhas iniciais do dataframe.\n",
    "dataset.head()"
   ]
  },
  {
   "cell_type": "code",
   "execution_count": 97,
   "metadata": {},
   "outputs": [
    {
     "output_type": "execute_result",
     "data": {
      "text/plain": "            id             date     price  bedrooms\n0   7129300520  20141013T000000  221900.0       3.0\n1   6414100192  20141209T000000  538000.0       3.0\n2   5631500400  20150225T000000  180000.0       2.0\n3   2487200875  20141209T000000  604000.0       4.0\n4   1954400510  20150218T000000  510000.0       3.0\n..         ...              ...       ...       ...\n95  1483300570  20140908T000000  905000.0       4.0\n96  3422049190  20150330T000000  247500.0       3.0\n97  1099611230  20140912T000000  199000.0       4.0\n98   722079104  20140711T000000  314000.0       3.0\n99  7338200240  20140516T000000  437500.0       3.0\n\n[100 rows x 4 columns]",
      "text/html": "<div>\n<style scoped>\n    .dataframe tbody tr th:only-of-type {\n        vertical-align: middle;\n    }\n\n    .dataframe tbody tr th {\n        vertical-align: top;\n    }\n\n    .dataframe thead th {\n        text-align: right;\n    }\n</style>\n<table border=\"1\" class=\"dataframe\">\n  <thead>\n    <tr style=\"text-align: right;\">\n      <th></th>\n      <th>id</th>\n      <th>date</th>\n      <th>price</th>\n      <th>bedrooms</th>\n    </tr>\n  </thead>\n  <tbody>\n    <tr>\n      <th>0</th>\n      <td>7129300520</td>\n      <td>20141013T000000</td>\n      <td>221900.0</td>\n      <td>3.0</td>\n    </tr>\n    <tr>\n      <th>1</th>\n      <td>6414100192</td>\n      <td>20141209T000000</td>\n      <td>538000.0</td>\n      <td>3.0</td>\n    </tr>\n    <tr>\n      <th>2</th>\n      <td>5631500400</td>\n      <td>20150225T000000</td>\n      <td>180000.0</td>\n      <td>2.0</td>\n    </tr>\n    <tr>\n      <th>3</th>\n      <td>2487200875</td>\n      <td>20141209T000000</td>\n      <td>604000.0</td>\n      <td>4.0</td>\n    </tr>\n    <tr>\n      <th>4</th>\n      <td>1954400510</td>\n      <td>20150218T000000</td>\n      <td>510000.0</td>\n      <td>3.0</td>\n    </tr>\n    <tr>\n      <th>...</th>\n      <td>...</td>\n      <td>...</td>\n      <td>...</td>\n      <td>...</td>\n    </tr>\n    <tr>\n      <th>95</th>\n      <td>1483300570</td>\n      <td>20140908T000000</td>\n      <td>905000.0</td>\n      <td>4.0</td>\n    </tr>\n    <tr>\n      <th>96</th>\n      <td>3422049190</td>\n      <td>20150330T000000</td>\n      <td>247500.0</td>\n      <td>3.0</td>\n    </tr>\n    <tr>\n      <th>97</th>\n      <td>1099611230</td>\n      <td>20140912T000000</td>\n      <td>199000.0</td>\n      <td>4.0</td>\n    </tr>\n    <tr>\n      <th>98</th>\n      <td>722079104</td>\n      <td>20140711T000000</td>\n      <td>314000.0</td>\n      <td>3.0</td>\n    </tr>\n    <tr>\n      <th>99</th>\n      <td>7338200240</td>\n      <td>20140516T000000</td>\n      <td>437500.0</td>\n      <td>3.0</td>\n    </tr>\n  </tbody>\n</table>\n<p>100 rows × 4 columns</p>\n</div>"
     },
     "metadata": {},
     "execution_count": 97
    }
   ],
   "source": [
    "# Imprimindo a 100 primeiras linhas do dataframe.\n",
    "dataset.head(100)"
   ]
  },
  {
   "cell_type": "code",
   "execution_count": 98,
   "metadata": {},
   "outputs": [
    {
     "output_type": "execute_result",
     "data": {
      "text/plain": "Index(['id', 'date', 'price', 'bedrooms'], dtype='object')"
     },
     "metadata": {},
     "execution_count": 98
    }
   ],
   "source": [
    "# Atributo columns retorna o nome das colunas do dataframe.\n",
    "dataset.columns"
   ]
  },
  {
   "cell_type": "code",
   "execution_count": 99,
   "metadata": {},
   "outputs": [
    {
     "output_type": "execute_result",
     "data": {
      "text/plain": "id          21613\ndate        21613\nprice       21613\nbedrooms    21609\ndtype: int64"
     },
     "metadata": {},
     "execution_count": 99
    }
   ],
   "source": [
    "# Método count() retorna a quantidade de linhas de todas as colunas.\n",
    "dataset.count()"
   ]
  },
  {
   "cell_type": "code",
   "execution_count": 100,
   "metadata": {
    "scrolled": true
   },
   "outputs": [
    {
     "output_type": "execute_result",
     "data": {
      "text/plain": "                 id         price      bedrooms\ncount  2.161300e+04  2.161300e+04  21609.000000\nmean   4.580302e+09  5.400881e+05      3.370910\nstd    2.876566e+09  3.671272e+05      0.930084\nmin    1.000102e+06  7.500000e+04      0.000000\n25%    2.123049e+09  3.219500e+05      3.000000\n50%    3.904930e+09  4.500000e+05      3.000000\n75%    7.308900e+09  6.450000e+05      4.000000\nmax    9.900000e+09  7.700000e+06     33.000000",
      "text/html": "<div>\n<style scoped>\n    .dataframe tbody tr th:only-of-type {\n        vertical-align: middle;\n    }\n\n    .dataframe tbody tr th {\n        vertical-align: top;\n    }\n\n    .dataframe thead th {\n        text-align: right;\n    }\n</style>\n<table border=\"1\" class=\"dataframe\">\n  <thead>\n    <tr style=\"text-align: right;\">\n      <th></th>\n      <th>id</th>\n      <th>price</th>\n      <th>bedrooms</th>\n    </tr>\n  </thead>\n  <tbody>\n    <tr>\n      <th>count</th>\n      <td>2.161300e+04</td>\n      <td>2.161300e+04</td>\n      <td>21609.000000</td>\n    </tr>\n    <tr>\n      <th>mean</th>\n      <td>4.580302e+09</td>\n      <td>5.400881e+05</td>\n      <td>3.370910</td>\n    </tr>\n    <tr>\n      <th>std</th>\n      <td>2.876566e+09</td>\n      <td>3.671272e+05</td>\n      <td>0.930084</td>\n    </tr>\n    <tr>\n      <th>min</th>\n      <td>1.000102e+06</td>\n      <td>7.500000e+04</td>\n      <td>0.000000</td>\n    </tr>\n    <tr>\n      <th>25%</th>\n      <td>2.123049e+09</td>\n      <td>3.219500e+05</td>\n      <td>3.000000</td>\n    </tr>\n    <tr>\n      <th>50%</th>\n      <td>3.904930e+09</td>\n      <td>4.500000e+05</td>\n      <td>3.000000</td>\n    </tr>\n    <tr>\n      <th>75%</th>\n      <td>7.308900e+09</td>\n      <td>6.450000e+05</td>\n      <td>4.000000</td>\n    </tr>\n    <tr>\n      <th>max</th>\n      <td>9.900000e+09</td>\n      <td>7.700000e+06</td>\n      <td>33.000000</td>\n    </tr>\n  </tbody>\n</table>\n</div>"
     },
     "metadata": {},
     "execution_count": 100
    }
   ],
   "source": [
    "# Método describe() exibe informações estatísticas da base de dados. \n",
    "# Várias informações como desvio padrão, média, valor mínimo e valor máximo de colunas.\n",
    "dataset.describe()"
   ]
  },
  {
   "cell_type": "code",
   "execution_count": 101,
   "metadata": {},
   "outputs": [
    {
     "output_type": "execute_result",
     "data": {
      "text/plain": "               id             date      price  bedrooms\n21513  1023059465  20140513T000000   505000.0       4.0\n21514  3262300818  20150227T000000  1865000.0       4.0\n21515  2937300040  20141215T000000   942990.0       4.0\n21516  2768100206  20141001T000000   440000.0       3.0\n21517  7904700134  20140626T000000   390000.0       3.0\n...           ...              ...        ...       ...\n21608   263000018  20140521T000000   360000.0       3.0\n21609  6600060120  20150223T000000   400000.0       4.0\n21610  1523300141  20140623T000000   402101.0       2.0\n21611   291310100  20150116T000000   400000.0       3.0\n21612  1523300157  20141015T000000   325000.0       2.0\n\n[100 rows x 4 columns]",
      "text/html": "<div>\n<style scoped>\n    .dataframe tbody tr th:only-of-type {\n        vertical-align: middle;\n    }\n\n    .dataframe tbody tr th {\n        vertical-align: top;\n    }\n\n    .dataframe thead th {\n        text-align: right;\n    }\n</style>\n<table border=\"1\" class=\"dataframe\">\n  <thead>\n    <tr style=\"text-align: right;\">\n      <th></th>\n      <th>id</th>\n      <th>date</th>\n      <th>price</th>\n      <th>bedrooms</th>\n    </tr>\n  </thead>\n  <tbody>\n    <tr>\n      <th>21513</th>\n      <td>1023059465</td>\n      <td>20140513T000000</td>\n      <td>505000.0</td>\n      <td>4.0</td>\n    </tr>\n    <tr>\n      <th>21514</th>\n      <td>3262300818</td>\n      <td>20150227T000000</td>\n      <td>1865000.0</td>\n      <td>4.0</td>\n    </tr>\n    <tr>\n      <th>21515</th>\n      <td>2937300040</td>\n      <td>20141215T000000</td>\n      <td>942990.0</td>\n      <td>4.0</td>\n    </tr>\n    <tr>\n      <th>21516</th>\n      <td>2768100206</td>\n      <td>20141001T000000</td>\n      <td>440000.0</td>\n      <td>3.0</td>\n    </tr>\n    <tr>\n      <th>21517</th>\n      <td>7904700134</td>\n      <td>20140626T000000</td>\n      <td>390000.0</td>\n      <td>3.0</td>\n    </tr>\n    <tr>\n      <th>...</th>\n      <td>...</td>\n      <td>...</td>\n      <td>...</td>\n      <td>...</td>\n    </tr>\n    <tr>\n      <th>21608</th>\n      <td>263000018</td>\n      <td>20140521T000000</td>\n      <td>360000.0</td>\n      <td>3.0</td>\n    </tr>\n    <tr>\n      <th>21609</th>\n      <td>6600060120</td>\n      <td>20150223T000000</td>\n      <td>400000.0</td>\n      <td>4.0</td>\n    </tr>\n    <tr>\n      <th>21610</th>\n      <td>1523300141</td>\n      <td>20140623T000000</td>\n      <td>402101.0</td>\n      <td>2.0</td>\n    </tr>\n    <tr>\n      <th>21611</th>\n      <td>291310100</td>\n      <td>20150116T000000</td>\n      <td>400000.0</td>\n      <td>3.0</td>\n    </tr>\n    <tr>\n      <th>21612</th>\n      <td>1523300157</td>\n      <td>20141015T000000</td>\n      <td>325000.0</td>\n      <td>2.0</td>\n    </tr>\n  </tbody>\n</table>\n<p>100 rows × 4 columns</p>\n</div>"
     },
     "metadata": {},
     "execution_count": 101
    }
   ],
   "source": [
    "# Imprime as 5 ultimas linhas .\n",
    "dataset.tail(100)"
   ]
  },
  {
   "cell_type": "code",
   "execution_count": 102,
   "metadata": {},
   "outputs": [
    {
     "output_type": "execute_result",
     "data": {
      "text/plain": "               id             date     price  bedrooms\n12558  2644900149  20141218T000000  364000.0       2.0\n12641  7215730730  20150128T000000  515000.0       4.0\n4583   8645501091  20150311T000000  259950.0       4.0\n5741   1923300170  20150109T000000  629000.0       5.0\n8420    514500195  20141016T000000  556000.0       4.0",
      "text/html": "<div>\n<style scoped>\n    .dataframe tbody tr th:only-of-type {\n        vertical-align: middle;\n    }\n\n    .dataframe tbody tr th {\n        vertical-align: top;\n    }\n\n    .dataframe thead th {\n        text-align: right;\n    }\n</style>\n<table border=\"1\" class=\"dataframe\">\n  <thead>\n    <tr style=\"text-align: right;\">\n      <th></th>\n      <th>id</th>\n      <th>date</th>\n      <th>price</th>\n      <th>bedrooms</th>\n    </tr>\n  </thead>\n  <tbody>\n    <tr>\n      <th>12558</th>\n      <td>2644900149</td>\n      <td>20141218T000000</td>\n      <td>364000.0</td>\n      <td>2.0</td>\n    </tr>\n    <tr>\n      <th>12641</th>\n      <td>7215730730</td>\n      <td>20150128T000000</td>\n      <td>515000.0</td>\n      <td>4.0</td>\n    </tr>\n    <tr>\n      <th>4583</th>\n      <td>8645501091</td>\n      <td>20150311T000000</td>\n      <td>259950.0</td>\n      <td>4.0</td>\n    </tr>\n    <tr>\n      <th>5741</th>\n      <td>1923300170</td>\n      <td>20150109T000000</td>\n      <td>629000.0</td>\n      <td>5.0</td>\n    </tr>\n    <tr>\n      <th>8420</th>\n      <td>514500195</td>\n      <td>20141016T000000</td>\n      <td>556000.0</td>\n      <td>4.0</td>\n    </tr>\n  </tbody>\n</table>\n</div>"
     },
     "metadata": {},
     "execution_count": 102
    }
   ],
   "source": [
    "# Imprime uma amostra aleatória do dataset.\n",
    "dataset.sample(5)"
   ]
  },
  {
   "cell_type": "code",
   "execution_count": 103,
   "metadata": {},
   "outputs": [
    {
     "output_type": "execute_result",
     "data": {
      "text/plain": "(21613, 4)"
     },
     "metadata": {},
     "execution_count": 103
    }
   ],
   "source": [
    "# Retorna em formato de tupla a quantidade de linhas e colunas do dataset.\n",
    "dataset.shape"
   ]
  },
  {
   "cell_type": "code",
   "execution_count": 104,
   "metadata": {},
   "outputs": [
    {
     "output_type": "stream",
     "name": "stdout",
     "text": "<class 'pandas.core.frame.DataFrame'>\nRangeIndex: 21613 entries, 0 to 21612\nData columns (total 4 columns):\n #   Column    Non-Null Count  Dtype  \n---  ------    --------------  -----  \n 0   id        21613 non-null  int64  \n 1   date      21613 non-null  object \n 2   price     21613 non-null  float64\n 3   bedrooms  21609 non-null  float64\ndtypes: float64(2), int64(1), object(1)\nmemory usage: 675.5+ KB\n"
    }
   ],
   "source": [
    "# Imprime informações sobre colunas e uso de memória.\n",
    "dataset.info()"
   ]
  },
  {
   "cell_type": "markdown",
   "metadata": {},
   "source": [
    "### Analisando um Dataframe com Profiling"
   ]
  },
  {
   "cell_type": "markdown",
   "metadata": {},
   "source": [
    "*Instalando o Pandas Profiling*"
   ]
  },
  {
   "cell_type": "code",
   "execution_count": 105,
   "metadata": {},
   "outputs": [
    {
     "output_type": "stream",
     "name": "stdout",
     "text": "Requirement already satisfied: pandas-profiling in c:\\users\\guilherme.angelico\\appdata\\roaming\\python\\python37\\site-packages (2.8.0)\nRequirement already satisfied: visions[type_image_path]==0.4.4 in c:\\users\\guilherme.angelico\\appdata\\roaming\\python\\python37\\site-packages (from pandas-profiling) (0.4.4)\nRequirement already satisfied: htmlmin>=0.1.12 in c:\\users\\guilherme.angelico\\appdata\\roaming\\python\\python37\\site-packages (from pandas-profiling) (0.1.12)\nRequirement already satisfied: matplotlib>=3.2.0 in c:\\users\\guilherme.angelico\\appdata\\roaming\\python\\python37\\site-packages (from pandas-profiling) (3.2.1)\nRequirement already satisfied: numpy>=1.16.0 in c:\\users\\guilherme.angelico\\appdata\\local\\continuum\\anaconda3\\lib\\site-packages (from pandas-profiling) (1.16.5)\nRequirement already satisfied: missingno>=0.4.2 in c:\\users\\guilherme.angelico\\appdata\\roaming\\python\\python37\\site-packages (from pandas-profiling) (0.4.2)\nRequirement already satisfied: confuse>=1.0.0 in c:\\users\\guilherme.angelico\\appdata\\roaming\\python\\python37\\site-packages (from pandas-profiling) (1.1.0)\nRequirement already satisfied: phik>=0.9.10 in c:\\users\\guilherme.angelico\\appdata\\roaming\\python\\python37\\site-packages (from pandas-profiling) (0.9.11)\nRequirement already satisfied: jinja2>=2.11.1 in c:\\users\\guilherme.angelico\\appdata\\roaming\\python\\python37\\site-packages (from pandas-profiling) (2.11.2)\nRequirement already satisfied: requests>=2.23.0 in c:\\users\\guilherme.angelico\\appdata\\roaming\\python\\python37\\site-packages (from pandas-profiling) (2.23.0)\nRequirement already satisfied: scipy>=1.4.1 in c:\\users\\guilherme.angelico\\appdata\\local\\continuum\\anaconda3\\lib\\site-packages (from pandas-profiling) (1.4.1)\nRequirement already satisfied: joblib in c:\\users\\guilherme.angelico\\appdata\\local\\continuum\\anaconda3\\lib\\site-packages (from pandas-profiling) (0.13.2)\nRequirement already satisfied: tqdm>=4.43.0 in c:\\users\\guilherme.angelico\\appdata\\roaming\\python\\python37\\site-packages (from pandas-profiling) (4.46.0)\nRequirement already satisfied: pandas!=1.0.0,!=1.0.1,!=1.0.2,>=0.25.3 in c:\\users\\guilherme.angelico\\appdata\\local\\continuum\\anaconda3\\lib\\site-packages (from pandas-profiling) (1.0.3)\nRequirement already satisfied: astropy>=4.0 in c:\\users\\guilherme.angelico\\appdata\\roaming\\python\\python37\\site-packages (from pandas-profiling) (4.0.1.post1)\nRequirement already satisfied: ipywidgets>=7.5.1 in c:\\users\\guilherme.angelico\\appdata\\local\\continuum\\anaconda3\\lib\\site-packages (from pandas-profiling) (7.5.1)\nRequirement already satisfied: tangled-up-in-unicode>=0.0.6 in c:\\users\\guilherme.angelico\\appdata\\roaming\\python\\python37\\site-packages (from pandas-profiling) (0.0.6)\nRequirement already satisfied: attrs>=19.3.0 in c:\\users\\guilherme.angelico\\appdata\\roaming\\python\\python37\\site-packages (from visions[type_image_path]==0.4.4->pandas-profiling) (19.3.0)\nRequirement already satisfied: networkx>=2.4 in c:\\users\\guilherme.angelico\\appdata\\roaming\\python\\python37\\site-packages (from visions[type_image_path]==0.4.4->pandas-profiling) (2.4)\nRequirement already satisfied: Pillow; extra == \"type_image_path\" in c:\\users\\guilherme.angelico\\appdata\\local\\continuum\\anaconda3\\lib\\site-packages (from visions[type_image_path]==0.4.4->pandas-profiling) (6.2.0)\nRequirement already satisfied: imagehash; extra == \"type_image_path\" in c:\\users\\guilherme.angelico\\appdata\\roaming\\python\\python37\\site-packages (from visions[type_image_path]==0.4.4->pandas-profiling) (4.1.0)\nRequirement already satisfied: pyparsing!=2.0.4,!=2.1.2,!=2.1.6,>=2.0.1 in c:\\users\\guilherme.angelico\\appdata\\local\\continuum\\anaconda3\\lib\\site-packages (from matplotlib>=3.2.0->pandas-profiling) (2.4.2)\nRequirement already satisfied: cycler>=0.10 in c:\\users\\guilherme.angelico\\appdata\\local\\continuum\\anaconda3\\lib\\site-packages (from matplotlib>=3.2.0->pandas-profiling) (0.10.0)\nRequirement already satisfied: kiwisolver>=1.0.1 in c:\\users\\guilherme.angelico\\appdata\\local\\continuum\\anaconda3\\lib\\site-packages (from matplotlib>=3.2.0->pandas-profiling) (1.1.0)\nRequirement already satisfied: python-dateutil>=2.1 in c:\\users\\guilherme.angelico\\appdata\\local\\continuum\\anaconda3\\lib\\site-packages (from matplotlib>=3.2.0->pandas-profiling) (2.8.0)\nRequirement already satisfied: seaborn in c:\\users\\guilherme.angelico\\appdata\\local\\continuum\\anaconda3\\lib\\site-packages (from missingno>=0.4.2->pandas-profiling) (0.9.0)\nRequirement already satisfied: pyyaml in c:\\users\\guilherme.angelico\\appdata\\local\\continuum\\anaconda3\\lib\\site-packages (from confuse>=1.0.0->pandas-profiling) (5.1.2)\nRequirement already satisfied: numba>=0.38.1 in c:\\users\\guilherme.angelico\\appdata\\local\\continuum\\anaconda3\\lib\\site-packages (from phik>=0.9.10->pandas-profiling) (0.45.1)\nRequirement already satisfied: MarkupSafe>=0.23 in c:\\users\\guilherme.angelico\\appdata\\local\\continuum\\anaconda3\\lib\\site-packages (from jinja2>=2.11.1->pandas-profiling) (1.1.1)\nRequirement already satisfied: idna<3,>=2.5 in c:\\users\\guilherme.angelico\\appdata\\local\\continuum\\anaconda3\\lib\\site-packages (from requests>=2.23.0->pandas-profiling) (2.8)\nRequirement already satisfied: urllib3!=1.25.0,!=1.25.1,<1.26,>=1.21.1 in c:\\users\\guilherme.angelico\\appdata\\local\\continuum\\anaconda3\\lib\\site-packages (from requests>=2.23.0->pandas-profiling) (1.24.2)\nRequirement already satisfied: certifi>=2017.4.17 in c:\\users\\guilherme.angelico\\appdata\\local\\continuum\\anaconda3\\lib\\site-packages (from requests>=2.23.0->pandas-profiling) (2019.9.11)\nRequirement already satisfied: chardet<4,>=3.0.2 in c:\\users\\guilherme.angelico\\appdata\\local\\continuum\\anaconda3\\lib\\site-packages (from requests>=2.23.0->pandas-profiling) (3.0.4)\nRequirement already satisfied: pytz>=2017.2 in c:\\users\\guilherme.angelico\\appdata\\local\\continuum\\anaconda3\\lib\\site-packages (from pandas!=1.0.0,!=1.0.1,!=1.0.2,>=0.25.3->pandas-profiling) (2019.3)\nRequirement already satisfied: nbformat>=4.2.0 in c:\\users\\guilherme.angelico\\appdata\\local\\continuum\\anaconda3\\lib\\site-packages (from ipywidgets>=7.5.1->pandas-profiling) (4.4.0)\nRequirement already satisfied: traitlets>=4.3.1 in c:\\users\\guilherme.angelico\\appdata\\local\\continuum\\anaconda3\\lib\\site-packages (from ipywidgets>=7.5.1->pandas-profiling) (4.3.3)\nRequirement already satisfied: ipykernel>=4.5.1 in c:\\users\\guilherme.angelico\\appdata\\local\\continuum\\anaconda3\\lib\\site-packages (from ipywidgets>=7.5.1->pandas-profiling) (5.1.2)\nRequirement already satisfied: widgetsnbextension~=3.5.0 in c:\\users\\guilherme.angelico\\appdata\\local\\continuum\\anaconda3\\lib\\site-packages (from ipywidgets>=7.5.1->pandas-profiling) (3.5.1)\nRequirement already satisfied: ipython>=4.0.0; python_version >= \"3.3\" in c:\\users\\guilherme.angelico\\appdata\\local\\continuum\\anaconda3\\lib\\site-packages (from ipywidgets>=7.5.1->pandas-profiling) (7.8.0)\nRequirement already satisfied: decorator>=4.3.0 in c:\\users\\guilherme.angelico\\appdata\\local\\continuum\\anaconda3\\lib\\site-packages (from networkx>=2.4->visions[type_image_path]==0.4.4->pandas-profiling) (4.4.0)\nRequirement already satisfied: six in c:\\users\\guilherme.angelico\\appdata\\local\\continuum\\anaconda3\\lib\\site-packages (from imagehash; extra == \"type_image_path\"->visions[type_image_path]==0.4.4->pandas-profiling) (1.12.0)\nRequirement already satisfied: PyWavelets in c:\\users\\guilherme.angelico\\appdata\\local\\continuum\\anaconda3\\lib\\site-packages (from imagehash; extra == \"type_image_path\"->visions[type_image_path]==0.4.4->pandas-profiling) (1.0.3)\nRequirement already satisfied: setuptools in c:\\users\\guilherme.angelico\\appdata\\local\\continuum\\anaconda3\\lib\\site-packages (from kiwisolver>=1.0.1->matplotlib>=3.2.0->pandas-profiling) (41.4.0)\nRequirement already satisfied: llvmlite>=0.29.0dev0 in c:\\users\\guilherme.angelico\\appdata\\local\\continuum\\anaconda3\\lib\\site-packages (from numba>=0.38.1->phik>=0.9.10->pandas-profiling) (0.29.0)\nRequirement already satisfied: ipython-genutils in c:\\users\\guilherme.angelico\\appdata\\local\\continuum\\anaconda3\\lib\\site-packages (from nbformat>=4.2.0->ipywidgets>=7.5.1->pandas-profiling) (0.2.0)\nRequirement already satisfied: jsonschema!=2.5.0,>=2.4 in c:\\users\\guilherme.angelico\\appdata\\local\\continuum\\anaconda3\\lib\\site-packages (from nbformat>=4.2.0->ipywidgets>=7.5.1->pandas-profiling) (3.0.2)\nRequirement already satisfied: jupyter-core in c:\\users\\guilherme.angelico\\appdata\\local\\continuum\\anaconda3\\lib\\site-packages (from nbformat>=4.2.0->ipywidgets>=7.5.1->pandas-profiling) (4.5.0)\nRequirement already satisfied: jupyter-client in c:\\users\\guilherme.angelico\\appdata\\local\\continuum\\anaconda3\\lib\\site-packages (from ipykernel>=4.5.1->ipywidgets>=7.5.1->pandas-profiling) (5.3.3)\nRequirement already satisfied: tornado>=4.2 in c:\\users\\guilherme.angelico\\appdata\\local\\continuum\\anaconda3\\lib\\site-packages (from ipykernel>=4.5.1->ipywidgets>=7.5.1->pandas-profiling) (5.1.1)\nRequirement already satisfied: notebook>=4.4.1 in c:\\users\\guilherme.angelico\\appdata\\local\\continuum\\anaconda3\\lib\\site-packages (from widgetsnbextension~=3.5.0->ipywidgets>=7.5.1->pandas-profiling) (6.0.1)\nRequirement already satisfied: pickleshare in c:\\users\\guilherme.angelico\\appdata\\local\\continuum\\anaconda3\\lib\\site-packages (from ipython>=4.0.0; python_version >= \"3.3\"->ipywidgets>=7.5.1->pandas-profiling) (0.7.5)\nRequirement already satisfied: colorama; sys_platform == \"win32\" in c:\\users\\guilherme.angelico\\appdata\\local\\continuum\\anaconda3\\lib\\site-packages (from ipython>=4.0.0; python_version >= \"3.3\"->ipywidgets>=7.5.1->pandas-profiling) (0.4.1)\nRequirement already satisfied: prompt-toolkit<2.1.0,>=2.0.0 in c:\\users\\guilherme.angelico\\appdata\\local\\continuum\\anaconda3\\lib\\site-packages (from ipython>=4.0.0; python_version >= \"3.3\"->ipywidgets>=7.5.1->pandas-profiling) (2.0.10)\nRequirement already satisfied: pygments in c:\\users\\guilherme.angelico\\appdata\\local\\continuum\\anaconda3\\lib\\site-packages (from ipython>=4.0.0; python_version >= \"3.3\"->ipywidgets>=7.5.1->pandas-profiling) (2.4.2)\nRequirement already satisfied: backcall in c:\\users\\guilherme.angelico\\appdata\\local\\continuum\\anaconda3\\lib\\site-packages (from ipython>=4.0.0; python_version >= \"3.3\"->ipywidgets>=7.5.1->pandas-profiling) (0.1.0)\nRequirement already satisfied: jedi>=0.10 in c:\\users\\guilherme.angelico\\appdata\\local\\continuum\\anaconda3\\lib\\site-packages (from ipython>=4.0.0; python_version >= \"3.3\"->ipywidgets>=7.5.1->pandas-profiling) (0.15.1)\nRequirement already satisfied: pyrsistent>=0.14.0 in c:\\users\\guilherme.angelico\\appdata\\local\\continuum\\anaconda3\\lib\\site-packages (from jsonschema!=2.5.0,>=2.4->nbformat>=4.2.0->ipywidgets>=7.5.1->pandas-profiling) (0.15.4)\nRequirement already satisfied: pyzmq>=13 in c:\\users\\guilherme.angelico\\appdata\\local\\continuum\\anaconda3\\lib\\site-packages (from jupyter-client->ipykernel>=4.5.1->ipywidgets>=7.5.1->pandas-profiling) (18.1.0)\nRequirement already satisfied: pywin32>=1.0; sys_platform == \"win32\" in c:\\users\\guilherme.angelico\\appdata\\local\\continuum\\anaconda3\\lib\\site-packages (from jupyter-client->ipykernel>=4.5.1->ipywidgets>=7.5.1->pandas-profiling) (223)\nRequirement already satisfied: terminado>=0.8.1 in c:\\users\\guilherme.angelico\\appdata\\local\\continuum\\anaconda3\\lib\\site-packages (from notebook>=4.4.1->widgetsnbextension~=3.5.0->ipywidgets>=7.5.1->pandas-profiling) (0.8.2)\nRequirement already satisfied: prometheus-client in c:\\users\\guilherme.angelico\\appdata\\local\\continuum\\anaconda3\\lib\\site-packages (from notebook>=4.4.1->widgetsnbextension~=3.5.0->ipywidgets>=7.5.1->pandas-profiling) (0.7.1)\nRequirement already satisfied: nbconvert in c:\\users\\guilherme.angelico\\appdata\\local\\continuum\\anaconda3\\lib\\site-packages (from notebook>=4.4.1->widgetsnbextension~=3.5.0->ipywidgets>=7.5.1->pandas-profiling) (5.6.0)\nRequirement already satisfied: Send2Trash in c:\\users\\guilherme.angelico\\appdata\\local\\continuum\\anaconda3\\lib\\site-packages (from notebook>=4.4.1->widgetsnbextension~=3.5.0->ipywidgets>=7.5.1->pandas-profiling) (1.5.0)\nRequirement already satisfied: wcwidth in c:\\users\\guilherme.angelico\\appdata\\local\\continuum\\anaconda3\\lib\\site-packages (from prompt-toolkit<2.1.0,>=2.0.0->ipython>=4.0.0; python_version >= \"3.3\"->ipywidgets>=7.5.1->pandas-profiling) (0.1.7)\nRequirement already satisfied: parso>=0.5.0 in c:\\users\\guilherme.angelico\\appdata\\local\\continuum\\anaconda3\\lib\\site-packages (from jedi>=0.10->ipython>=4.0.0; python_version >= \"3.3\"->ipywidgets>=7.5.1->pandas-profiling) (0.5.1)\nRequirement already satisfied: bleach in c:\\users\\guilherme.angelico\\appdata\\local\\continuum\\anaconda3\\lib\\site-packages (from nbconvert->notebook>=4.4.1->widgetsnbextension~=3.5.0->ipywidgets>=7.5.1->pandas-profiling) (3.1.0)\nRequirement already satisfied: testpath in c:\\users\\guilherme.angelico\\appdata\\local\\continuum\\anaconda3\\lib\\site-packages (from nbconvert->notebook>=4.4.1->widgetsnbextension~=3.5.0->ipywidgets>=7.5.1->pandas-profiling) (0.4.2)\nRequirement already satisfied: defusedxml in c:\\users\\guilherme.angelico\\appdata\\local\\continuum\\anaconda3\\lib\\site-packages (from nbconvert->notebook>=4.4.1->widgetsnbextension~=3.5.0->ipywidgets>=7.5.1->pandas-profiling) (0.6.0)\nRequirement already satisfied: entrypoints>=0.2.2 in c:\\users\\guilherme.angelico\\appdata\\local\\continuum\\anaconda3\\lib\\site-packages (from nbconvert->notebook>=4.4.1->widgetsnbextension~=3.5.0->ipywidgets>=7.5.1->pandas-profiling) (0.3)\nRequirement already satisfied: mistune<2,>=0.8.1 in c:\\users\\guilherme.angelico\\appdata\\local\\continuum\\anaconda3\\lib\\site-packages (from nbconvert->notebook>=4.4.1->widgetsnbextension~=3.5.0->ipywidgets>=7.5.1->pandas-profiling) (0.8.4)\nRequirement already satisfied: pandocfilters>=1.4.1 in c:\\users\\guilherme.angelico\\appdata\\local\\continuum\\anaconda3\\lib\\site-packages (from nbconvert->notebook>=4.4.1->widgetsnbextension~=3.5.0->ipywidgets>=7.5.1->pandas-profiling) (1.4.2)\nRequirement already satisfied: webencodings in c:\\users\\guilherme.angelico\\appdata\\local\\continuum\\anaconda3\\lib\\site-packages (from bleach->nbconvert->notebook>=4.4.1->widgetsnbextension~=3.5.0->ipywidgets>=7.5.1->pandas-profiling) (0.5.1)\n"
    }
   ],
   "source": [
    "!pip install pandas-profiling"
   ]
  },
  {
   "cell_type": "code",
   "execution_count": 106,
   "metadata": {},
   "outputs": [],
   "source": [
    "import pandas_profiling"
   ]
  },
  {
   "cell_type": "markdown",
   "metadata": {},
   "source": [
    "*Lendo o arquivo de dados e construindo o dataframe chamado df*"
   ]
  },
  {
   "cell_type": "code",
   "execution_count": 107,
   "metadata": {},
   "outputs": [],
   "source": [
    "arquivo = 'kc_house_data.csv'"
   ]
  },
  {
   "cell_type": "code",
   "execution_count": 108,
   "metadata": {},
   "outputs": [],
   "source": [
    "df = pd.read_csv(arquivo, sep=',' ,header=0)"
   ]
  },
  {
   "cell_type": "markdown",
   "metadata": {},
   "source": [
    "*Usando o Profiling no jupyter notebook*"
   ]
  },
  {
   "cell_type": "code",
   "execution_count": 109,
   "metadata": {},
   "outputs": [],
   "source": [
    "profile = pandas_profiling.ProfileReport(df)"
   ]
  },
  {
   "cell_type": "code",
   "execution_count": null,
   "metadata": {},
   "outputs": [],
   "source": [
    "profile.to_file(\"report.html\")"
   ]
  },
  {
   "cell_type": "markdown",
   "metadata": {},
   "source": [
    "# Trabalhando com Grandes Arquivos"
   ]
  },
  {
   "cell_type": "markdown",
   "metadata": {},
   "source": [
    "+ Quando estamos trabalhando com _**Grandes Arquivos**_ temos um desafio um grande desafio que é gerenciar a memória.\n",
    "+ As vezes precisamos manipular uma base de dados muito grande e por isso precisamos trabalhar com arquivos de forma diferente.\n",
    "* Uma forma é ler esses arquivos de forma limitada para não consumir toda a _**memória**_ do servidor."
   ]
  },
  {
   "cell_type": "code",
   "execution_count": null,
   "metadata": {},
   "outputs": [],
   "source": [
    "# Lendo as 5 primeiras linhas do arquivo.\n",
    "dataset = pd.read_csv(arquivo, sep=',')"
   ]
  },
  {
   "cell_type": "code",
   "execution_count": null,
   "metadata": {},
   "outputs": [],
   "source": [
    "dataset.head(2)"
   ]
  },
  {
   "cell_type": "code",
   "execution_count": null,
   "metadata": {},
   "outputs": [],
   "source": [
    "# O parâmetro chunksize define em quantas linhas cada bloco irá conter.\n",
    "chunk = pd.read_csv(arquivo, chunksize=10000)"
   ]
  },
  {
   "cell_type": "code",
   "execution_count": null,
   "metadata": {},
   "outputs": [],
   "source": [
    "type(chunk)"
   ]
  },
  {
   "cell_type": "code",
   "execution_count": null,
   "metadata": {},
   "outputs": [],
   "source": [
    "# Imprimindo tamanho das partes do arquivo chunk.\n",
    "for parte in chunk:\n",
    "    print (len(parte))"
   ]
  },
  {
   "cell_type": "code",
   "execution_count": null,
   "metadata": {},
   "outputs": [],
   "source": [
    "# O parâmetro chunksize define em quantas linhas cada bloco irá conter.\n",
    "chunk = pd.read_csv(arquivo, chunksize=10000)"
   ]
  },
  {
   "cell_type": "code",
   "execution_count": null,
   "metadata": {},
   "outputs": [],
   "source": [
    "# Interese sobre cada parte do dataframe em seguida adicione o valor processado a uma nova coluna do dataset.\n",
    "lista = []\n",
    "for parte in chunk:\n",
    "    lista.append(parte['bedrooms'] * 2)\n",
    "\n",
    "dataset['bedrooms_size'] = pd.concat(lista)"
   ]
  },
  {
   "cell_type": "code",
   "execution_count": null,
   "metadata": {},
   "outputs": [],
   "source": [
    "dataset"
   ]
  },
  {
   "cell_type": "markdown",
   "metadata": {},
   "source": [
    "### Mais recursos para trabalhar com grandes bases de dados"
   ]
  },
  {
   "cell_type": "markdown",
   "metadata": {},
   "source": [
    "1.   Tente trabalhar apenas com as colunas que você vai realmente precisar.\n",
    "2.   Atente para o tipo de dado de cada coluna.\n",
    "3.   Visualize qual o separador usado para separar os dados."
   ]
  },
  {
   "cell_type": "markdown",
   "metadata": {},
   "source": [
    "**Dica:** Se estiver no linux use o comando head para ler as 5 primeiras linhas do arquivo:\n",
    "\n",
    "`head -n 5 dataset.csv`"
   ]
  },
  {
   "cell_type": "code",
   "execution_count": null,
   "metadata": {},
   "outputs": [],
   "source": [
    "!head -n 5 /home/rodrigo/kc_house_data.csv"
   ]
  },
  {
   "cell_type": "markdown",
   "metadata": {},
   "source": [
    "**Dica**: Se estiver no Windows abra o prompt do **PowerShell** e use o comando abaixo:\n",
    "- gc log.txt -head 5 "
   ]
  },
  {
   "cell_type": "code",
   "execution_count": null,
   "metadata": {},
   "outputs": [],
   "source": [
    "import pandas as pd"
   ]
  },
  {
   "cell_type": "code",
   "execution_count": null,
   "metadata": {},
   "outputs": [],
   "source": [
    "# Lear a base com o parâmetro nrows\n",
    "df = pd.read_csv('kc_house_data.csv', sep=',', nrows=5)"
   ]
  },
  {
   "cell_type": "code",
   "execution_count": null,
   "metadata": {},
   "outputs": [],
   "source": [
    "df"
   ]
  },
  {
   "cell_type": "markdown",
   "metadata": {},
   "source": [
    "*Exporte o nome das colunas para usar no parâmetro usecols*"
   ]
  },
  {
   "cell_type": "code",
   "execution_count": null,
   "metadata": {},
   "outputs": [],
   "source": [
    "df.columns.tolist()"
   ]
  },
  {
   "cell_type": "code",
   "execution_count": null,
   "metadata": {},
   "outputs": [],
   "source": [
    "df = pd.read_csv(\"kc_house_data.csv\", usecols=['id','date','price','bedrooms','bathrooms','sqft_living','sqft_lot','floors','waterfront'])"
   ]
  },
  {
   "cell_type": "code",
   "execution_count": null,
   "metadata": {},
   "outputs": [],
   "source": [
    "df.head()"
   ]
  },
  {
   "cell_type": "markdown",
   "metadata": {},
   "source": [
    "*lendo as colunas por posições*"
   ]
  },
  {
   "cell_type": "code",
   "execution_count": null,
   "metadata": {},
   "outputs": [],
   "source": [
    "df = pd.read_csv(\"kc_house_data.csv\", usecols=[0,1,2,3,4,5])"
   ]
  },
  {
   "cell_type": "code",
   "execution_count": null,
   "metadata": {},
   "outputs": [],
   "source": [
    "df.head()"
   ]
  },
  {
   "cell_type": "markdown",
   "metadata": {},
   "source": [
    "*Ler o arquivo completo e veja o uso de memória*"
   ]
  },
  {
   "cell_type": "code",
   "execution_count": null,
   "metadata": {},
   "outputs": [],
   "source": [
    "df = pd.read_csv('kc_house_data.csv', sep=',')"
   ]
  },
  {
   "cell_type": "code",
   "execution_count": null,
   "metadata": {},
   "outputs": [],
   "source": [
    "df.info()"
   ]
  },
  {
   "cell_type": "markdown",
   "metadata": {},
   "source": [
    "*Leia todas as colunas exceto algumas..*"
   ]
  },
  {
   "cell_type": "code",
   "execution_count": null,
   "metadata": {},
   "outputs": [],
   "source": [
    "data = \"kc_house_data.csv\"\n",
    "df = pd.read_csv(data, usecols = lambda column : column not in ['sqft_living','sqft_lot','floors'])"
   ]
  },
  {
   "cell_type": "code",
   "execution_count": null,
   "metadata": {},
   "outputs": [],
   "source": [
    "df.head()"
   ]
  },
  {
   "cell_type": "markdown",
   "metadata": {},
   "source": [
    "### Trabalhe com os tipos de dados adequados\n"
   ]
  },
  {
   "cell_type": "markdown",
   "metadata": {},
   "source": [
    "- Atenção para os tipos de dados **object**\n",
    "- Dados que são categóricos podem receber o tipo de dados *category*"
   ]
  },
  {
   "cell_type": "code",
   "execution_count": null,
   "metadata": {},
   "outputs": [],
   "source": [
    "df = pd.read_csv(\"https://raw.githubusercontent.com/datasciencedojo/datasets/master/titanic.csv\")"
   ]
  },
  {
   "cell_type": "code",
   "execution_count": null,
   "metadata": {},
   "outputs": [],
   "source": [
    "df.info()"
   ]
  },
  {
   "cell_type": "markdown",
   "metadata": {},
   "source": [
    "*Convertendo os tipos de dados*"
   ]
  },
  {
   "cell_type": "code",
   "execution_count": null,
   "metadata": {},
   "outputs": [],
   "source": [
    "df.Sex = df.Sex.astype('category')\n",
    "df.Embarked = df.Embarked.astype('category')\n",
    "df.Survived = df.Survived.astype('category')\n",
    "df.Pclass = df.Pclass.astype('category')\n",
    "df.PassengerId = df.PassengerId.astype('int32')\n",
    "df.Parch = df.Parch.astype('int32')\n",
    "df.SibSp = df.SibSp.astype('int32')"
   ]
  },
  {
   "cell_type": "markdown",
   "metadata": {},
   "source": [
    "*Veja o uso de memória*"
   ]
  },
  {
   "cell_type": "code",
   "execution_count": null,
   "metadata": {},
   "outputs": [],
   "source": [
    "df.info()"
   ]
  },
  {
   "cell_type": "markdown",
   "metadata": {},
   "source": [
    "- Quase **50%** e ganho de memória !"
   ]
  },
  {
   "cell_type": "markdown",
   "metadata": {},
   "source": [
    "*Converta colunas em tempo de leitura*"
   ]
  },
  {
   "cell_type": "code",
   "execution_count": null,
   "metadata": {},
   "outputs": [],
   "source": [
    "data = \"https://raw.githubusercontent.com/datasciencedojo/datasets/master/titanic.csv\"\n",
    "df = pd.read_csv(data,  dtype = {\"Embarked\" : \"category\", \"Survived\": \"category\", \"Parch\": \"int32\"})"
   ]
  },
  {
   "cell_type": "code",
   "execution_count": null,
   "metadata": {},
   "outputs": [],
   "source": [
    "df.info()"
   ]
  },
  {
   "cell_type": "markdown",
   "metadata": {},
   "source": [
    "# Consultando um Dataset"
   ]
  },
  {
   "cell_type": "markdown",
   "metadata": {},
   "source": [
    "* Podemos fazer _**consultas**_ em um Dataframe, isso se assemelha a linhagem SQL.\n",
    "\n",
    "* Existem métodos interessantes para fazer consultas usando operadores lógicos (>,<,== ).\n",
    "\n",
    "* Além disso podemos fazer consultas usando instruções de agrupamento, por exemplo. \n",
    "\n",
    "* Isso da muita flexibilidade para o Cientista de dados na hora de explorar da base de dados."
   ]
  },
  {
   "cell_type": "code",
   "execution_count": null,
   "metadata": {},
   "outputs": [],
   "source": [
    "# Conta a quantidade de valores únicos\n",
    "pd.value_counts(dataset['bedrooms'])"
   ]
  },
  {
   "cell_type": "code",
   "execution_count": null,
   "metadata": {},
   "outputs": [],
   "source": [
    "# O método loc() é usado para visualizar informações do dataset.\n",
    "# Este método recebe uma lista por parâmetro e retorna o resultado da consulta.\n",
    "# Consulta imóveis com 3 quartos\n",
    "dataset.loc[dataset['bedrooms'] == 3]"
   ]
  },
  {
   "cell_type": "code",
   "execution_count": null,
   "metadata": {},
   "outputs": [],
   "source": [
    "# Usando o método loc() junto com o operador &\n",
    "# Consulta imóveis com 3 quartos e com o número de banheiros maior que 2\n",
    "dataset.loc[(dataset['bedrooms']==3) & (dataset['bathrooms'] > 2)]"
   ]
  },
  {
   "cell_type": "code",
   "execution_count": null,
   "metadata": {},
   "outputs": [],
   "source": [
    "# O método sort_values() ordena o dataset pela coluna 'price' em ordem descrescente.\n",
    "# Apenas o retorno da query será ordenado, não a organização do dataset.\n",
    "dataset.sort_values(by='price', ascending=False)"
   ]
  },
  {
   "cell_type": "code",
   "execution_count": null,
   "metadata": {},
   "outputs": [],
   "source": [
    "# Usando o método count() para contar o número de linhas de uma query.\n",
    "dataset[dataset['bedrooms']==4].count()"
   ]
  },
  {
   "cell_type": "code",
   "execution_count": null,
   "metadata": {},
   "outputs": [],
   "source": []
  },
  {
   "cell_type": "markdown",
   "metadata": {},
   "source": [
    "# Alterando o dataset"
   ]
  },
  {
   "cell_type": "code",
   "execution_count": null,
   "metadata": {},
   "outputs": [],
   "source": [
    "dataset.head()"
   ]
  },
  {
   "cell_type": "code",
   "execution_count": null,
   "metadata": {},
   "outputs": [],
   "source": [
    "# Adicionando uma coluna ao Dataframe.\n",
    "dataset['size'] = (dataset['bedrooms'] * 20)"
   ]
  },
  {
   "cell_type": "code",
   "execution_count": null,
   "metadata": {},
   "outputs": [],
   "source": [
    "# Visualizando o conteúdo da coluna criada.\n",
    "dataset['size'].head()"
   ]
  },
  {
   "cell_type": "code",
   "execution_count": null,
   "metadata": {},
   "outputs": [],
   "source": [
    "# Criando uma função para processamento de dados.\n",
    "def categoriza(s):\n",
    "    if s >= 80:\n",
    "        return 'Big'\n",
    "    elif s >= 60:\n",
    "        return 'Medium'\n",
    "    elif s >= 40:\n",
    "        return 'Small'"
   ]
  },
  {
   "cell_type": "code",
   "execution_count": null,
   "metadata": {},
   "outputs": [],
   "source": [
    "# Criando uma nova coluna a partir do processamento realizado.\n",
    "dataset['cat_size'] = dataset['size'].apply(categoriza)"
   ]
  },
  {
   "cell_type": "code",
   "execution_count": null,
   "metadata": {},
   "outputs": [],
   "source": [
    "# Visualizando a nova coluna criada.\n",
    "dataset['cat_size'].head()"
   ]
  },
  {
   "cell_type": "code",
   "execution_count": null,
   "metadata": {},
   "outputs": [],
   "source": [
    "# Ver a distribuicao da coluna com o método value_counts.\n",
    "pd.value_counts(dataset['cat_size'])"
   ]
  },
  {
   "cell_type": "code",
   "execution_count": null,
   "metadata": {},
   "outputs": [],
   "source": [
    "# O método drop é usado para excluir dados no dataframe.\n",
    "# A opção axis=1 define que queremos excluir uma coluna e não uma linha.\n",
    "# O parâmetro inplace define que a alteração irá modificar o objeto em memória.\n",
    "\n",
    "dataset.drop(['cat_size'], axis=1, inplace=True)"
   ]
  },
  {
   "cell_type": "code",
   "execution_count": null,
   "metadata": {},
   "outputs": [],
   "source": [
    "# Apagando a coluna 'size'\n",
    "dataset.drop(['size'], axis=1, inplace=True)"
   ]
  },
  {
   "cell_type": "code",
   "execution_count": null,
   "metadata": {},
   "outputs": [],
   "source": [
    "# Visualizando o dataset.\n",
    "dataset.head()"
   ]
  },
  {
   "cell_type": "markdown",
   "metadata": {},
   "source": [
    "**Apagando linhas baseado em Condições lógicas!**"
   ]
  },
  {
   "cell_type": "code",
   "execution_count": null,
   "metadata": {},
   "outputs": [],
   "source": [
    "# Dropa linhas com bedrooms = 0\n",
    "dataset.drop(dataset[dataset.bedrooms==0].index ,inplace=True)"
   ]
  },
  {
   "cell_type": "code",
   "execution_count": null,
   "metadata": {},
   "outputs": [],
   "source": [
    "# Dropa linhas maiores que 30\n",
    "dataset.drop(dataset[dataset.bedrooms>30].index ,inplace=True)"
   ]
  },
  {
   "cell_type": "markdown",
   "metadata": {},
   "source": [
    "**Percorrendo linhas de um Dataframe Pandas**"
   ]
  },
  {
   "cell_type": "markdown",
   "metadata": {},
   "source": [
    "- Método iterrows() permite percorrer por todas as linhas de um dataframe.\n",
    "- Esse método retorna um objeto **iterator** que contém o indice de cada linha e um cada linha em um dado do tipo série."
   ]
  },
  {
   "cell_type": "code",
   "execution_count": null,
   "metadata": {},
   "outputs": [],
   "source": [
    "type(dataset.iterrows())"
   ]
  },
  {
   "cell_type": "code",
   "execution_count": null,
   "metadata": {},
   "outputs": [],
   "source": [
    "# Imprime a primeira linha do objeto iterator\n",
    "next(dataset.iterrows())"
   ]
  },
  {
   "cell_type": "code",
   "execution_count": null,
   "metadata": {},
   "outputs": [],
   "source": [
    "# Percorrendo o dataframe e imprimindo o indice e cada linha.\n",
    "for indice, linha in dataset.head(10).iterrows():\n",
    "     print(indice, linha)"
   ]
  },
  {
   "cell_type": "code",
   "execution_count": null,
   "metadata": {},
   "outputs": [],
   "source": [
    "# Percorrendo o dataframe e acessando colunas nomes.\n",
    "for indice, linha in dataset.head(10).iterrows():\n",
    "     print(indice, linha['bedrooms'], linha['floors'], linha['price'])"
   ]
  },
  {
   "cell_type": "markdown",
   "metadata": {},
   "source": [
    "**Atualizando Dataframe ao percorrer linha a linha**"
   ]
  },
  {
   "cell_type": "code",
   "execution_count": null,
   "metadata": {},
   "outputs": [],
   "source": [
    "# Imprime os 5 primeiros valores de preços antes da atualização.\n",
    "dataset.price.head()"
   ]
  },
  {
   "cell_type": "code",
   "execution_count": null,
   "metadata": {},
   "outputs": [],
   "source": [
    "# Percorrendo e atualizando linhas de um dataframe.\n",
    "# Atualiza o valor da coluna PRICE multiplicando seu valor por 2.\n",
    "# é preciso usar o método at()\n",
    "for indice, linha in dataset.iterrows():\n",
    "    dataset.at[indice , 'price'] = linha['price'] * 2"
   ]
  },
  {
   "cell_type": "code",
   "execution_count": null,
   "metadata": {},
   "outputs": [],
   "source": [
    "dataset.price.head()"
   ]
  },
  {
   "cell_type": "markdown",
   "metadata": {},
   "source": [
    "**Percorrendo um dataframe com o método itertuples()**"
   ]
  },
  {
   "cell_type": "markdown",
   "metadata": {},
   "source": [
    "- Retorna as linhas e índice em formato de tuplas.\n",
    "- Costuma ser mais rápido que o iterrows()"
   ]
  },
  {
   "cell_type": "code",
   "execution_count": null,
   "metadata": {},
   "outputs": [],
   "source": [
    "# Percorre o dataframe usando itertuples()\n",
    "for linha in dataset.head().itertuples():\n",
    "    print(linha)"
   ]
  },
  {
   "cell_type": "code",
   "execution_count": null,
   "metadata": {},
   "outputs": [],
   "source": [
    "# Imprime linhas chamando as colunas por nome.\n",
    "for linha in dataset.head().itertuples():\n",
    "    print(linha.id, linha.bedrooms, linha.price)"
   ]
  },
  {
   "cell_type": "markdown",
   "metadata": {},
   "source": [
    "# Missing Values"
   ]
  },
  {
   "cell_type": "markdown",
   "metadata": {},
   "source": [
    "* **Missing Values** são valores faltantes em colunas, esses podem ser oriundos de falhas em cargas de dados, falhas em crawlers ou até mesmo corrupção de dados.\n",
    "\n",
    "* Missing Values podem ser um problema em várias situações, como por exemplo, algoritmos de machine learning que não trabalham bem com dados faltantes.\n",
    "\n",
    "* Estes também podem atrapalhar resultados de análises.\n",
    "\n",
    "* Vamos aprender como encontrar missing values na base de dados e como manipular esses valores."
   ]
  },
  {
   "cell_type": "code",
   "execution_count": null,
   "metadata": {},
   "outputs": [],
   "source": [
    "arquivo = '/home/rodrigo/curso/Python Para Data Análise/kc_house_data.csv'\n",
    "dataset = pd.read_csv(arquivo, sep=',', header=0)"
   ]
  },
  {
   "cell_type": "code",
   "execution_count": null,
   "metadata": {},
   "outputs": [],
   "source": [
    "# Consultando linhas com valores faltantes.\n",
    "dataset.isnull().sum()"
   ]
  },
  {
   "cell_type": "code",
   "execution_count": null,
   "metadata": {},
   "outputs": [],
   "source": [
    "#Com este comando removemos todas as linhas onde tenha pela menos um registro faltante em algum atributo.\n",
    "dataset.dropna(inplace=True)"
   ]
  },
  {
   "cell_type": "code",
   "execution_count": null,
   "metadata": {},
   "outputs": [],
   "source": [
    "# É possível ainda, remover somente linhas que estejam com valores faltantes em todas as colunas, veja:\n",
    "dataset.dropna(how='all', inplace=True)"
   ]
  },
  {
   "cell_type": "code",
   "execution_count": null,
   "metadata": {},
   "outputs": [],
   "source": [
    "#preenche com a media dos valores da coluns floors os values null\n",
    "dataset['floors'].fillna(dataset['floors'].mean(), inplace=True)"
   ]
  },
  {
   "cell_type": "code",
   "execution_count": null,
   "metadata": {},
   "outputs": [],
   "source": [
    "#preenche com 1 os values null da coluna bedrooms\n",
    "dataset['bedrooms'].fillna(1, inplace=True)"
   ]
  },
  {
   "cell_type": "markdown",
   "metadata": {},
   "source": [
    "# Visualização de dados"
   ]
  },
  {
   "cell_type": "code",
   "execution_count": null,
   "metadata": {},
   "outputs": [],
   "source": [
    "# Plota em um gŕafico de barras o preço dos imóveis\n",
    "dataset['price'].plot()"
   ]
  },
  {
   "cell_type": "code",
   "execution_count": null,
   "metadata": {},
   "outputs": [],
   "source": [
    "# Plota em gráfico de dispersão o preço e o numero de quartos de imóveis\n",
    "dataset.plot(x='bedrooms',y='price',kind='scatter', title='Bedrooms x Price',color='r')"
   ]
  },
  {
   "cell_type": "code",
   "execution_count": null,
   "metadata": {},
   "outputs": [],
   "source": [
    "# Plota em gráfico de dispersão o preço e o número de banheiros\n",
    "dataset.plot(x='bathrooms',y='price',kind='scatter',color='y')"
   ]
  },
  {
   "cell_type": "code",
   "execution_count": null,
   "metadata": {},
   "outputs": [],
   "source": []
  }
 ],
 "metadata": {
  "kernelspec": {
   "display_name": "Python 3",
   "language": "python",
   "name": "python3"
  },
  "language_info": {
   "codemirror_mode": {
    "name": "ipython",
    "version": 3
   },
   "file_extension": ".py",
   "mimetype": "text/x-python",
   "name": "python",
   "nbconvert_exporter": "python",
   "pygments_lexer": "ipython3",
   "version": "3.7.4-final"
  }
 },
 "nbformat": 4,
 "nbformat_minor": 2
}