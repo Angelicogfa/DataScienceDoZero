{
 "cells": [
  {
   "cell_type": "markdown",
   "metadata": {},
   "source": [
    "# Trabalhando com Dicionários"
   ]
  },
  {
   "cell_type": "code",
   "execution_count": 1,
   "metadata": {},
   "outputs": [
    {
     "output_type": "execute_result",
     "data": {
      "text/plain": "dict"
     },
     "metadata": {},
     "execution_count": 1
    }
   ],
   "source": [
    "# Criando um Dicionário as {} são as principais diferenças\n",
    "dic = {}\n",
    "type(dic)"
   ]
  },
  {
   "cell_type": "code",
   "execution_count": 2,
   "metadata": {},
   "outputs": [
    {
     "output_type": "execute_result",
     "data": {
      "text/plain": "{'Rodrigo': 30,\n 'Marcela': 30,\n 'Maria': 55,\n 'Jose': 80,\n 'pesos': {'Rodrigo': 68, 'Maria': 70, 'Jose': 87},\n 'Valores': [1, 3.5, 400, 5, 6],\n 'Strings': ['MinerandoDados.com.br', 'Data Science', 'Machine Learning']}"
     },
     "metadata": {},
     "execution_count": 2
    }
   ],
   "source": [
    "# Os dicionários trabalham com o conceito de \"chave:valor\"\n",
    "# Dicionários podem conter outros dicionários e listas\n",
    "pessoas = {'Rodrigo':30, 'Marcela':30, 'Maria':55, 'Jose':80, \n",
    "           'pesos':{'Rodrigo':68,'Maria':70,'Jose':87},\n",
    "           'Valores':[1,3.5,400,5,6], \n",
    "           'Strings': ['MinerandoDados.com.br','Data Science','Machine Learning']\n",
    "           }\n",
    "pessoas"
   ]
  },
  {
   "cell_type": "code",
   "execution_count": 3,
   "metadata": {},
   "outputs": [
    {
     "output_type": "execute_result",
     "data": {
      "text/plain": "80"
     },
     "metadata": {},
     "execution_count": 3
    }
   ],
   "source": [
    "# Acessando os valores de um dicionario a partir das chaves\n",
    "pessoas['Jose']"
   ]
  },
  {
   "cell_type": "code",
   "execution_count": 4,
   "metadata": {},
   "outputs": [
    {
     "output_type": "error",
     "ename": "KeyError",
     "evalue": "'Luiz'",
     "traceback": [
      "\u001b[1;31m---------------------------------------------------------------------------\u001b[0m",
      "\u001b[1;31mKeyError\u001b[0m                                  Traceback (most recent call last)",
      "\u001b[1;32m<ipython-input-4-d7a7e1b98cda>\u001b[0m in \u001b[0;36m<module>\u001b[1;34m\u001b[0m\n\u001b[0;32m      1\u001b[0m \u001b[1;31m# Chave não encontrada\u001b[0m\u001b[1;33m\u001b[0m\u001b[1;33m\u001b[0m\u001b[1;33m\u001b[0m\u001b[0m\n\u001b[1;32m----> 2\u001b[1;33m \u001b[0mpessoas\u001b[0m\u001b[1;33m[\u001b[0m\u001b[1;34m'Luiz'\u001b[0m\u001b[1;33m]\u001b[0m\u001b[1;33m\u001b[0m\u001b[1;33m\u001b[0m\u001b[0m\n\u001b[0m",
      "\u001b[1;31mKeyError\u001b[0m: 'Luiz'"
     ]
    }
   ],
   "source": [
    "# Chave não encontrada\n",
    "pessoas['Luiz']"
   ]
  },
  {
   "cell_type": "code",
   "execution_count": 5,
   "metadata": {},
   "outputs": [
    {
     "output_type": "execute_result",
     "data": {
      "text/plain": "68"
     },
     "metadata": {},
     "execution_count": 5
    }
   ],
   "source": [
    "# Acessando dicionario aninhado\n",
    "pessoas['pesos']['Rodrigo']"
   ]
  },
  {
   "cell_type": "code",
   "execution_count": 6,
   "metadata": {},
   "outputs": [
    {
     "output_type": "execute_result",
     "data": {
      "text/plain": "'Machine Learning'"
     },
     "metadata": {},
     "execution_count": 6
    }
   ],
   "source": [
    "# Acessando lista dentro do dicionário\n",
    "pessoas['Strings'][2]"
   ]
  },
  {
   "cell_type": "markdown",
   "metadata": {},
   "source": [
    "# Atualizando Dicionários"
   ]
  },
  {
   "cell_type": "code",
   "execution_count": 7,
   "metadata": {},
   "outputs": [
    {
     "output_type": "execute_result",
     "data": {
      "text/plain": "{'Rodrigo': 30,\n 'Marcela': 30,\n 'Maria': 55,\n 'Jose': 80,\n 'pesos': {'Rodrigo': 68, 'Maria': 70, 'Jose': 87},\n 'Valores': [1, 3.5, 400, 5, 6],\n 'Strings': ['MinerandoDados.com.br', 'Data Science', 'Machine Learning']}"
     },
     "metadata": {},
     "execution_count": 7
    }
   ],
   "source": [
    "pessoas"
   ]
  },
  {
   "cell_type": "code",
   "execution_count": 8,
   "metadata": {},
   "outputs": [
    {
     "output_type": "execute_result",
     "data": {
      "text/plain": "31"
     },
     "metadata": {},
     "execution_count": 8
    }
   ],
   "source": [
    "# Atualizando o valor de uma chave\n",
    "pessoas['Rodrigo']= 31\n",
    "pessoas['Rodrigo']"
   ]
  },
  {
   "cell_type": "code",
   "execution_count": 9,
   "metadata": {},
   "outputs": [
    {
     "output_type": "execute_result",
     "data": {
      "text/plain": "45"
     },
     "metadata": {},
     "execution_count": 9
    }
   ],
   "source": [
    "# Adicionando chaves e valores aos dicionários\n",
    "pessoas['Luiz'] = 45\n",
    "pessoas['Luiz']"
   ]
  },
  {
   "cell_type": "code",
   "execution_count": 10,
   "metadata": {},
   "outputs": [
    {
     "output_type": "execute_result",
     "data": {
      "text/plain": "{'Rodrigo': 31,\n 'Marcela': 30,\n 'Maria': 55,\n 'Jose': 80,\n 'pesos': {'Rodrigo': 68, 'Maria': 70, 'Jose': 87},\n 'Valores': [1, 3.5, 400, 5, 6],\n 'Strings': ['MinerandoDados.com.br', 'Data Science', 'Machine Learning']}"
     },
     "metadata": {},
     "execution_count": 10
    }
   ],
   "source": [
    "# Apaga elementos do dicionário\n",
    "del pessoas['Luiz']\n",
    "pessoas"
   ]
  },
  {
   "cell_type": "markdown",
   "metadata": {},
   "source": [
    "# Métodos disponíveis"
   ]
  },
  {
   "cell_type": "code",
   "execution_count": 11,
   "metadata": {
    "collapsed": true
   },
   "outputs": [
    {
     "output_type": "error",
     "ename": "SyntaxError",
     "evalue": "invalid syntax (<ipython-input-11-d4ac64ee5bfe>, line 2)",
     "traceback": [
      "\u001b[1;36m  File \u001b[1;32m\"<ipython-input-11-d4ac64ee5bfe>\"\u001b[1;36m, line \u001b[1;32m2\u001b[0m\n\u001b[1;33m    pessoas.\u001b[0m\n\u001b[1;37m            ^\u001b[0m\n\u001b[1;31mSyntaxError\u001b[0m\u001b[1;31m:\u001b[0m invalid syntax\n"
     ]
    }
   ],
   "source": [
    "# Métodos disponiveis, pressione . e a tecla tab\n",
    "pessoas."
   ]
  },
  {
   "cell_type": "code",
   "execution_count": 12,
   "metadata": {},
   "outputs": [
    {
     "output_type": "execute_result",
     "data": {
      "text/plain": "dict_keys(['Rodrigo', 'Marcela', 'Maria', 'Jose', 'pesos', 'Valores', 'Strings'])"
     },
     "metadata": {},
     "execution_count": 12
    }
   ],
   "source": [
    "# Retorna todas as Chaves do Dicionário\n",
    "pessoas.keys()"
   ]
  },
  {
   "cell_type": "code",
   "execution_count": 13,
   "metadata": {},
   "outputs": [
    {
     "output_type": "execute_result",
     "data": {
      "text/plain": "dict_values([31, 30, 55, 80, {'Rodrigo': 68, 'Maria': 70, 'Jose': 87}, [1, 3.5, 400, 5, 6], ['MinerandoDados.com.br', 'Data Science', 'Machine Learning']])"
     },
     "metadata": {},
     "execution_count": 13
    }
   ],
   "source": [
    "# Retorna os Valores de todas as chaves\n",
    "pessoas.values()"
   ]
  },
  {
   "cell_type": "code",
   "execution_count": 14,
   "metadata": {
    "collapsed": true
   },
   "outputs": [],
   "source": [
    "# Criando um segundo dicionario\n",
    "pessoas2 = {'Norma':69, 'Eliana':61}"
   ]
  },
  {
   "cell_type": "code",
   "execution_count": 15,
   "metadata": {},
   "outputs": [
    {
     "output_type": "execute_result",
     "data": {
      "text/plain": "{'Norma': 69, 'Eliana': 61}"
     },
     "metadata": {},
     "execution_count": 15
    }
   ],
   "source": [
    "pessoas2"
   ]
  },
  {
   "cell_type": "code",
   "execution_count": 16,
   "metadata": {},
   "outputs": [
    {
     "output_type": "execute_result",
     "data": {
      "text/plain": "{'Rodrigo': 31,\n 'Marcela': 30,\n 'Maria': 55,\n 'Jose': 80,\n 'pesos': {'Rodrigo': 68, 'Maria': 70, 'Jose': 87},\n 'Valores': [1, 3.5, 400, 5, 6],\n 'Strings': ['MinerandoDados.com.br', 'Data Science', 'Machine Learning'],\n 'Norma': 69,\n 'Eliana': 61}"
     },
     "metadata": {},
     "execution_count": 16
    }
   ],
   "source": [
    "# Atualiza o primeiro dicionário adicionando elementos do segundo\n",
    "pessoas.update(pessoas2)\n",
    "pessoas"
   ]
  },
  {
   "cell_type": "code",
   "execution_count": 17,
   "metadata": {},
   "outputs": [
    {
     "output_type": "execute_result",
     "data": {
      "text/plain": "31"
     },
     "metadata": {},
     "execution_count": 17
    }
   ],
   "source": [
    "# Retorna o valor da chave caso ela exista, senão retorna o valor do parâmetro.\n",
    "pessoas.get('Rodrigo','Não_Existe')"
   ]
  },
  {
   "cell_type": "code",
   "execution_count": 18,
   "metadata": {},
   "outputs": [
    {
     "output_type": "execute_result",
     "data": {
      "text/plain": "30"
     },
     "metadata": {},
     "execution_count": 18
    }
   ],
   "source": [
    "# Retorna o valor da chave caso ela exista, senão inseri a chave e o valor no dicionário.\n",
    "pessoas.setdefault('Marcos',30)"
   ]
  },
  {
   "cell_type": "code",
   "execution_count": 19,
   "metadata": {},
   "outputs": [
    {
     "output_type": "execute_result",
     "data": {
      "text/plain": "{'Rodrigo': 31,\n 'Marcela': 30,\n 'Maria': 55,\n 'Jose': 80,\n 'pesos': {'Rodrigo': 68, 'Maria': 70, 'Jose': 87},\n 'Valores': [1, 3.5, 400, 5, 6],\n 'Strings': ['MinerandoDados.com.br', 'Data Science', 'Machine Learning'],\n 'Norma': 69,\n 'Eliana': 61,\n 'Marcos': 30}"
     },
     "metadata": {},
     "execution_count": 19
    }
   ],
   "source": [
    "pessoas"
   ]
  },
  {
   "cell_type": "code",
   "execution_count": 20,
   "metadata": {},
   "outputs": [
    {
     "output_type": "execute_result",
     "data": {
      "text/plain": "31"
     },
     "metadata": {},
     "execution_count": 20
    }
   ],
   "source": [
    "# Retorna o valor da chave e removi esta. Se não for encontrada retorna o valor passado por parâmetro.\n",
    "pessoas.pop('Rodrigo','Essa chave já foi removida')"
   ]
  },
  {
   "cell_type": "code",
   "execution_count": 21,
   "metadata": {},
   "outputs": [
    {
     "output_type": "execute_result",
     "data": {
      "text/plain": "{'Marcela': 30,\n 'Maria': 55,\n 'Jose': 80,\n 'pesos': {'Rodrigo': 68, 'Maria': 70, 'Jose': 87},\n 'Valores': [1, 3.5, 400, 5, 6],\n 'Strings': ['MinerandoDados.com.br', 'Data Science', 'Machine Learning'],\n 'Norma': 69,\n 'Eliana': 61,\n 'Marcos': 30}"
     },
     "metadata": {},
     "execution_count": 21
    }
   ],
   "source": [
    "# Visualize o dicionario.\n",
    "pessoas"
   ]
  },
  {
   "cell_type": "code",
   "execution_count": 22,
   "metadata": {
    "collapsed": true
   },
   "outputs": [],
   "source": [
    "# Apaga o conteúdo do dicionário\n",
    "pessoas.clear()"
   ]
  },
  {
   "cell_type": "code",
   "execution_count": 23,
   "metadata": {},
   "outputs": [
    {
     "output_type": "execute_result",
     "data": {
      "text/plain": "{}"
     },
     "metadata": {},
     "execution_count": 23
    }
   ],
   "source": [
    "pessoas"
   ]
  }
 ],
 "metadata": {
  "kernelspec": {
   "display_name": "Python 3",
   "language": "python",
   "name": "python3"
  },
  "language_info": {
   "codemirror_mode": {
    "name": "ipython",
    "version": 3
   },
   "file_extension": ".py",
   "mimetype": "text/x-python",
   "name": "python",
   "nbconvert_exporter": "python",
   "pygments_lexer": "ipython3",
   "version": "3.7.4-final"
  }
 },
 "nbformat": 4,
 "nbformat_minor": 2
}