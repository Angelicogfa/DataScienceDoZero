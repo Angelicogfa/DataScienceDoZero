{
 "cells": [
  {
   "cell_type": "markdown",
   "metadata": {},
   "source": [
    "# Trabalhando com Loops"
   ]
  },
  {
   "cell_type": "code",
   "execution_count": null,
   "metadata": {},
   "outputs": [],
   "source": [
    "# Os loops são usados no Python na seguinte forma (sintaxe):\n",
    "for i in coleção:\n",
    "    <execute uma ou mais ações>\n",
    "    \n",
    "# A coleção pode ser uma lista de números\n",
    "# Ou ainda uma lista de Strings, ou um arquivo, uma tupla, um dicionário e assim por diante."
   ]
  },
  {
   "cell_type": "code",
   "execution_count": 1,
   "metadata": {},
   "outputs": [
    {
     "output_type": "stream",
     "name": "stdout",
     "text": "Valor: 1\n3\nValor: 2\n4\nValor: 3\n5\nValor: 4\n6\nValor: 5\n7\n"
    }
   ],
   "source": [
    "# Exemplo de loop com lista\n",
    "for i in [1,2,3,4,5]:\n",
    "    print (\"Valor: %s\" %i)\n",
    "    print (i + 2)"
   ]
  },
  {
   "cell_type": "code",
   "execution_count": 2,
   "metadata": {},
   "outputs": [
    {
     "output_type": "stream",
     "name": "stdout",
     "text": "M\ni\nn\ne\nr\na\nn\nd\no\n \nD\na\nd\no\ns\n,\n \na\n \nc\na\ns\na\n \nd\no\n \nC\ni\ne\nn\nt\ni\ns\nt\na\n \nd\ne\n \nD\na\nd\no\ns\n"
    }
   ],
   "source": [
    "# Exemplo de loop com uma String\n",
    "for caracter in 'Minerando Dados, a casa do Cientista de Dados':\n",
    "    print (caracter)"
   ]
  },
  {
   "cell_type": "code",
   "execution_count": 3,
   "metadata": {},
   "outputs": [
    {
     "output_type": "stream",
     "name": "stdout",
     "text": "Ferrari\nPorshe\nlamborghini\n"
    }
   ],
   "source": [
    "# Exemplo de loop com uma lista de strings\n",
    "automoveis = ['Ferrari','Porshe','lamborghini']\n",
    "for carro in automoveis:\n",
    "    print (carro)"
   ]
  },
  {
   "cell_type": "code",
   "execution_count": 4,
   "metadata": {},
   "outputs": [
    {
     "output_type": "stream",
     "name": "stdout",
     "text": "Rodrigo\nMaria\nJose\n"
    }
   ],
   "source": [
    "# Loops com Dicionários\n",
    "pessoas_idade = {'Rodrigo':30, 'Maria':25, 'Jose':65}\n",
    "for p in pessoas_idade:\n",
    "    print (p)"
   ]
  },
  {
   "cell_type": "code",
   "execution_count": 5,
   "metadata": {},
   "outputs": [
    {
     "output_type": "stream",
     "name": "stdout",
     "text": "1\n3\n5\n7\n9\n"
    }
   ],
   "source": [
    "# Loops com estruturas condicionais\n",
    "# Imprimindo apenas números impares\n",
    "for i in [1,2,3,4,5,6,7,8,9,10]:\n",
    "    if i % 2 > 0:\n",
    "        print (i)"
   ]
  },
  {
   "cell_type": "code",
   "execution_count": 6,
   "metadata": {},
   "outputs": [
    {
     "output_type": "stream",
     "name": "stdout",
     "text": "10 Ola mundo\n15 Python é uma linguagem sensacional\n20 Minerando Dados a sua comunidade de Data Science\n"
    }
   ],
   "source": [
    "# Usando a função zip para concatenar listas\n",
    "indice = [10,15,20]\n",
    "linhas = ['Ola mundo','Python é uma linguagem sensacional','Minerando Dados a sua comunidade de Data Science']\n",
    "for i,l in zip(indice,linhas):\n",
    "    print (i,l)"
   ]
  },
  {
   "cell_type": "markdown",
   "metadata": {},
   "source": [
    "# Loops Aninhados"
   ]
  },
  {
   "cell_type": "code",
   "execution_count": 7,
   "metadata": {},
   "outputs": [
    {
     "output_type": "stream",
     "name": "stdout",
     "text": "1a Fase\nMaça\nBananas\nUvas\n2a Fase\nMaça\nBananas\nUvas\n3a Fase\nMaça\nBananas\nUvas\n"
    }
   ],
   "source": [
    "# A cada execução do Primeiro loop, todo o segundo loop será executado\n",
    "for i in ['1a Fase','2a Fase','3a Fase']:\n",
    "    print (i)\n",
    "    for y in ['Maça','Bananas','Uvas']:\n",
    "        print (y)"
   ]
  },
  {
   "cell_type": "markdown",
   "metadata": {},
   "source": [
    "# Instrução Break"
   ]
  },
  {
   "cell_type": "code",
   "execution_count": 8,
   "metadata": {},
   "outputs": [
    {
     "output_type": "error",
     "ename": "IndentationError",
     "evalue": "unexpected indent (<ipython-input-8-3fab37a4ba5f>, line 5)",
     "traceback": [
      "\u001b[1;36m  File \u001b[1;32m\"<ipython-input-8-3fab37a4ba5f>\"\u001b[1;36m, line \u001b[1;32m5\u001b[0m\n\u001b[1;33m    break #loop interrompido!!\u001b[0m\n\u001b[1;37m    ^\u001b[0m\n\u001b[1;31mIndentationError\u001b[0m\u001b[1;31m:\u001b[0m unexpected indent\n"
     ]
    }
   ],
   "source": [
    "# A instrução break é usada para encerrar um loop\n",
    "for letra in 'Python':\n",
    "   if letra == 'o':\n",
    "    faça_algo\n",
    "      break #loop interrompido!!\n",
    "   print ('Letra :', letra)\n",
    "\n",
    "print (\"\\n\\nContinuando o programa...\")"
   ]
  },
  {
   "cell_type": "markdown",
   "metadata": {},
   "source": [
    "# Instrução Continue"
   ]
  },
  {
   "cell_type": "code",
   "execution_count": 9,
   "metadata": {},
   "outputs": [
    {
     "output_type": "stream",
     "name": "stdout",
     "text": "Letra : P\nLetra : t\nLetra : h\nLetra : o\nLetra : n\n"
    }
   ],
   "source": [
    "# A instrução continue checa a condição inicial do loop e continua sua execução\n",
    "for letra in 'Python':\n",
    "   if letra == 'y':\n",
    "      continue\n",
    "   print ('Letra :', letra)"
   ]
  }
 ],
 "metadata": {
  "kernelspec": {
   "display_name": "Python 3",
   "language": "python",
   "name": "python3"
  },
  "language_info": {
   "codemirror_mode": {
    "name": "ipython",
    "version": 3
   },
   "file_extension": ".py",
   "mimetype": "text/x-python",
   "name": "python",
   "nbconvert_exporter": "python",
   "pygments_lexer": "ipython3",
   "version": "3.7.4-final"
  }
 },
 "nbformat": 4,
 "nbformat_minor": 2
}