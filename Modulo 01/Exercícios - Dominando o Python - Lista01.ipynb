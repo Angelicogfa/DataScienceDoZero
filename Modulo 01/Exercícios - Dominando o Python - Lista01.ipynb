{
 "cells": [
  {
   "cell_type": "markdown",
   "metadata": {
    "colab_type": "text",
    "id": "t8qG28pDnfuM"
   },
   "source": [
    "# Exercícios - Capítulo Dominando o Python"
   ]
  },
  {
   "cell_type": "markdown",
   "metadata": {
    "colab_type": "text",
    "id": "N9fXnHvPnfuN"
   },
   "source": [
    "1) Imprima a frase \"Eu sou Minerador de Dados!\""
   ]
  },
  {
   "cell_type": "code",
   "execution_count": 1,
   "metadata": {},
   "outputs": [
    {
     "output_type": "stream",
     "name": "stdout",
     "text": "Eu sou Minerador de Dados!\n"
    }
   ],
   "source": [
    "print('Eu sou Minerador de Dados!')"
   ]
  },
  {
   "cell_type": "markdown",
   "metadata": {
    "colab_type": "text",
    "id": "dK5aLDPDnfuO"
   },
   "source": [
    "2) Faça operações matemáticas de soma, subtração, multiplicação e divisão."
   ]
  },
  {
   "cell_type": "code",
   "execution_count": 2,
   "metadata": {},
   "outputs": [
    {
     "output_type": "stream",
     "name": "stdout",
     "text": "3\n-1\n0.5\n2\n"
    }
   ],
   "source": [
    "print(1+2)\n",
    "print(1-2)\n",
    "print(1/2)\n",
    "print(1*2)"
   ]
  },
  {
   "cell_type": "markdown",
   "metadata": {
    "colab_type": "text",
    "id": "Y1hfyqi3nfuO"
   },
   "source": [
    "3) Imprima o tipo de um determinado valor inteiro."
   ]
  },
  {
   "cell_type": "code",
   "execution_count": 3,
   "metadata": {},
   "outputs": [
    {
     "output_type": "stream",
     "name": "stdout",
     "text": "<class 'int'>\n"
    }
   ],
   "source": [
    "print(type(1))"
   ]
  },
  {
   "cell_type": "markdown",
   "metadata": {
    "colab_type": "text",
    "id": "lpMenLb2nfuP"
   },
   "source": [
    "4) Converta o valor passado anteriormente para o tipo float"
   ]
  },
  {
   "cell_type": "code",
   "execution_count": 4,
   "metadata": {},
   "outputs": [
    {
     "output_type": "stream",
     "name": "stdout",
     "text": "1.0\n"
    }
   ],
   "source": [
    "print(float(1))"
   ]
  },
  {
   "cell_type": "markdown",
   "metadata": {
    "colab_type": "text",
    "id": "L3naneHLnfuP"
   },
   "source": [
    "5) Faça a conversão do valor float recebido anteriormente para o tipo string"
   ]
  },
  {
   "cell_type": "code",
   "execution_count": 5,
   "metadata": {},
   "outputs": [
    {
     "output_type": "stream",
     "name": "stdout",
     "text": "1.0\n"
    }
   ],
   "source": [
    "print(str(1.0))"
   ]
  },
  {
   "cell_type": "markdown",
   "metadata": {
    "colab_type": "text",
    "id": "DfN6mDVonfuQ"
   },
   "source": [
    "6) Utilizando funções de arredonamento faça:\n",
    "- Arredonde o valor 2.898\n",
    "- Arredonde o valor 2.4545455 e exiba apenas 4 cadas decimais"
   ]
  },
  {
   "cell_type": "code",
   "execution_count": 7,
   "metadata": {},
   "outputs": [
    {
     "output_type": "stream",
     "name": "stdout",
     "text": "3\n2.4545\n"
    }
   ],
   "source": [
    "print(round(2.898))\n",
    "print(round(2.454545,4))"
   ]
  },
  {
   "cell_type": "markdown",
   "metadata": {
    "colab_type": "text",
    "id": "rKA0Gdl0nfuQ"
   },
   "source": [
    "7) Utilizando variáveis faça:\n",
    "- Defina uma variável com o seu nome e imprima o seu valor.\n",
    "- Imprima o tipo dessa variável.\n",
    "- Substitua o valor da sua variável nome com a concatenação do seu valor e o seu sobrenome, depois, imprima o novo valor.\n",
    "    - obs: O resultado dessa variável será Nome Sobrenome, exemplo, Felipe Santana.\n",
    "- Defina duas variaveis com os valores do seu email e idade com apenas uma linha de comando, depois, imprima seus valores."
   ]
  },
  {
   "cell_type": "code",
   "execution_count": 8,
   "metadata": {},
   "outputs": [
    {
     "output_type": "stream",
     "name": "stdout",
     "text": "Guilherme\n<class 'str'>\nGuilherme angelico\nangelicogfa@gmail.com 29\n"
    }
   ],
   "source": [
    "nome = \"Guilherme\"\n",
    "print(nome)\n",
    "print(type(nome))\n",
    "nome += \" angelico\"\n",
    "print(nome)\n",
    "email, idade = \"angelicogfa@gmail.com\", 29\n",
    "print(email, idade)"
   ]
  },
  {
   "cell_type": "markdown",
   "metadata": {
    "colab_type": "text",
    "id": "Xj8LZ11infuR"
   },
   "source": [
    "8) Explique a causa do erro se executar a seguinte instrução para criar uma nova variável: break=10"
   ]
  },
  {
   "cell_type": "code",
   "execution_count": 9,
   "metadata": {},
   "outputs": [],
   "source": [
    "# break é uma palavra reservada da linguagem python e por sua vez não pode ser utilizada para criação de variavel"
   ]
  },
  {
   "cell_type": "markdown",
   "metadata": {
    "colab_type": "text",
    "id": "UipeTegTnfuS"
   },
   "source": [
    "9) Sobre os objetos Strings, faça:\n",
    "- Defina uma variavel com a string: \"Python é uma maldição!\" e imprima\n",
    "- Imprima o primeiro caracter da variavel.\n",
    "- Imprima os valores do primeiro caracter até o 6.\n",
    "- Faça a contagem de todos os caracteres utilizando uma única linha de comando.\n",
    "- Faça uma contagem de quantos vezes a palavra dados aparece na seguinte frase:\n",
    "    - \"dados é o novo petróleo, em Deus eu confio, para o resto me traga dados..\"\n",
    "- Substitua o primeiro caracter da frase acima para maiúsculo\n",
    "- Quebre as palavras da frase separado por virgula, criando uma lista."
   ]
  },
  {
   "cell_type": "code",
   "execution_count": 10,
   "metadata": {},
   "outputs": [
    {
     "output_type": "stream",
     "name": "stdout",
     "text": "Python e uma maldição!\nP\n22\n2\nDados é o novo petróleo, em deus eu confio, para o resto me traga dados..\n['dados é o novo petróleo', ' em Deus eu confio', ' para o resto me traga dados..']\n"
    }
   ],
   "source": [
    "frase = \"Python e uma maldição!\"\n",
    "print(frase)\n",
    "print(frase[0])\n",
    "print(len(frase))\n",
    "frase2 = \"dados é o novo petróleo, em Deus eu confio, para o resto me traga dados..\"\n",
    "print(frase2.count(\"dados\"))\n",
    "print(frase2.capitalize())\n",
    "print(frase2.split(','))"
   ]
  },
  {
   "cell_type": "markdown",
   "metadata": {
    "colab_type": "text",
    "id": "sOfK05ypnfuS"
   },
   "source": [
    "10) Trabalhando com Listas, faça:\n",
    "- Cria uma lista de valores inteiros com o nome idades.\n",
    "- Imprima apenas segundo elemento da lista.\n",
    "- Imprima a contagem de valores da lista.\n",
    "- Substitua o valor do segundo elemento da lista e imprima o resultado.\n",
    "- Imprima apenas os valores do segundo elemento em diante.\n",
    "- Remova qualquer elemento da lista e imprima o resultado.\n",
    "- Defina uma lista chamada salarios com os valores : 900,1200,1500,800,12587,10000.\n",
    "- Verifique se contém o valor 10000 na lista de salarios.\n",
    "- Imprima o menor e maior valor da lista.\n",
    "- Adicione o valor 7000 a lista.\n",
    "- Extenda a lista com dois novos elementos utilizando apenas um método.\n",
    "- Imprima o índice do elemento de valor 800 da lista de salarios.\n",
    "- Faça uma ordenação dos valores da lista de salarios em ordem crescente e decrescente."
   ]
  },
  {
   "cell_type": "code",
   "execution_count": 19,
   "metadata": {},
   "outputs": [
    {
     "output_type": "stream",
     "name": "stdout",
     "text": "4\n5\n[1, 5, 6, 25, 29]\n[5, 6, 25, 29]\n[1, 5, 25, 29]\n800 12587\n3\n[800, 900, 900, 1000, 1200, 1500, 7000, 10000, 12587]\n[12587, 10000, 7000, 1500, 1200, 1000, 900, 900, 800]\n"
    }
   ],
   "source": [
    "idades = [1, 4, 6, 25, 29]\n",
    "print(idades[1])\n",
    "print(len(idades))\n",
    "idades[1] = 5\n",
    "print(idades)\n",
    "print(idades[1:])\n",
    "idades.pop(2)\n",
    "print(idades)\n",
    "salarios = [900,1200,1500,800,12587,10000]\n",
    "print(min(salarios), max(salarios))\n",
    "salarios.append(7000)\n",
    "salarios.extend([900,1000])\n",
    "print(salarios.index(800))\n",
    "salarios.sort()\n",
    "print(salarios)\n",
    "salarios.reverse()\n",
    "print(salarios)"
   ]
  },
  {
   "cell_type": "code",
   "execution_count": null,
   "metadata": {},
   "outputs": [],
   "source": []
  }
 ],
 "metadata": {
  "colab": {
   "name": "Lista 01 - Capitulo 03 - Dominando o Python.ipynb",
   "provenance": [],
   "version": "0.3.2"
  },
  "kernelspec": {
   "display_name": "Python 3",
   "language": "python",
   "name": "python3"
  },
  "language_info": {
   "codemirror_mode": {
    "name": "ipython",
    "version": 3
   },
   "file_extension": ".py",
   "mimetype": "text/x-python",
   "name": "python",
   "nbconvert_exporter": "python",
   "pygments_lexer": "ipython3",
   "version": "3.7.4-final"
  },
  "widgets": {
   "application/vnd.jupyter.widget-state+json": {
    "state": {},
    "version_major": 2,
    "version_minor": 0
   }
  }
 },
 "nbformat": 4,
 "nbformat_minor": 0
}